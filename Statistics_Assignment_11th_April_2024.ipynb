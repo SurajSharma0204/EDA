{
  "nbformat": 4,
  "nbformat_minor": 0,
  "metadata": {
    "colab": {
      "provenance": [],
      "toc_visible": true,
      "authorship_tag": "ABX9TyPAeKh9tUa4ie7O28kCu/7b"
    },
    "kernelspec": {
      "name": "python3",
      "display_name": "Python 3"
    },
    "language_info": {
      "name": "python"
    }
  },
  "cells": [
    {
      "cell_type": "code",
      "execution_count": null,
      "metadata": {
        "id": "aGSK4N40B___"
      },
      "outputs": [],
      "source": [
        "#Q=1 Generate a list of 100 integers containing values between 90 to 130 and store it in the variable `int_list`.\n",
        "#After generating the list, find the following:\n",
        "\n",
        "\n",
        "\n",
        "  #(i) Write a Python function to calculate the mean of a given list of numbers.\n",
        "\n",
        "#Create a function to find the median of a list of numbers.\n",
        "\n",
        "\n",
        "\n",
        " # (ii) Develop a program to compute the mode of a list of integers.\n",
        "\n",
        "\n",
        "\n",
        "  #(iii) Implement a function to calculate the weighted mean of a list of values and their corresponding weights.\n",
        "\n",
        "\n",
        "\n",
        "  #iv) Write a Python function to find the geometric mean of a list of positive numbers.\n",
        "\n",
        "\n",
        "\n",
        "  #(v) Create a program to calculate the harmonic mean of a list of values.\n",
        "\n",
        "\n",
        "\n",
        "  #(vi) Build a function to determine the midrange of a list of numbers (average of the minimum and maximum).\n",
        "\n",
        "\n",
        "\n",
        "  #(vii) Implement a Python program to find the trimmed mean of a list, excluding a certain percentage of outliers."
      ]
    },
    {
      "cell_type": "code",
      "source": [
        "import random\n",
        "\n",
        "\n",
        "\n",
        "# Generate a list of 100  random integers between 90 and 130\n",
        "int_list = [random.randint(90, 130) for _ in range(100)]\n",
        "\n",
        "# Print the list to verify\n",
        "print(int_list)"
      ],
      "metadata": {
        "id": "USHaE5bWC2h7",
        "colab": {
          "base_uri": "https://localhost:8080/"
        },
        "outputId": "81a5e64d-cedd-4d87-fc74-df0d973f6a93"
      },
      "execution_count": null,
      "outputs": [
        {
          "output_type": "stream",
          "name": "stdout",
          "text": [
            "[107, 130, 92, 120, 110, 112, 106, 90, 130, 100, 109, 91, 118, 90, 95, 103, 119, 122, 115, 92, 103, 103, 115, 128, 102, 92, 104, 120, 119, 103, 125, 91, 92, 124, 117, 113, 114, 95, 117, 90, 122, 112, 109, 101, 96, 106, 117, 97, 110, 128, 123, 99, 111, 128, 130, 115, 107, 126, 103, 117, 106, 90, 110, 94, 113, 106, 130, 113, 102, 117, 120, 126, 108, 129, 124, 101, 130, 122, 128, 127, 106, 111, 110, 123, 121, 107, 121, 105, 117, 91, 96, 118, 130, 120, 120, 126, 130, 114, 109, 130]\n"
          ]
        }
      ]
    },
    {
      "cell_type": "code",
      "source": [
        "#(i) Write a Python function to calculate the mean of a given list of numbers.\n",
        "\n",
        "import pandas as pd\n",
        "import numpy as np\n",
        "import seaborn as sns\n",
        "\n",
        "np.mean(int_list)"
      ],
      "metadata": {
        "colab": {
          "base_uri": "https://localhost:8080/"
        },
        "id": "btiQZRPmGb20",
        "outputId": "47aa89f9-4e45-4be8-99b6-11daabcc7bd1"
      },
      "execution_count": null,
      "outputs": [
        {
          "output_type": "execute_result",
          "data": {
            "text/plain": [
              "111.76"
            ]
          },
          "metadata": {},
          "execution_count": 13
        }
      ]
    },
    {
      "cell_type": "code",
      "source": [
        "#Create a function to find the median of a list of numbers.\n",
        "\n",
        "np.median(int_list)"
      ],
      "metadata": {
        "colab": {
          "base_uri": "https://localhost:8080/"
        },
        "id": "WhiuDfqjHXYx",
        "outputId": "ec3ae5c0-858f-4088-fad1-b0015d5afaf9"
      },
      "execution_count": null,
      "outputs": [
        {
          "output_type": "execute_result",
          "data": {
            "text/plain": [
              "112.5"
            ]
          },
          "metadata": {},
          "execution_count": 14
        }
      ]
    },
    {
      "cell_type": "code",
      "source": [
        " # (ii) Develop a program to compute the mode of a list of integers.\n",
        "\n",
        " import statistics\n",
        "\n",
        " statistics.mode(int_list)"
      ],
      "metadata": {
        "colab": {
          "base_uri": "https://localhost:8080/"
        },
        "id": "ksjlJ7QqHlCv",
        "outputId": "dfb67075-0851-4993-d099-4b54669364d1"
      },
      "execution_count": null,
      "outputs": [
        {
          "output_type": "execute_result",
          "data": {
            "text/plain": [
              "130"
            ]
          },
          "metadata": {},
          "execution_count": 15
        }
      ]
    },
    {
      "cell_type": "code",
      "source": [
        "#(iii) Implement a function to calculate the weighted mean of a list of values and their corresponding weights.\n",
        "import numpy as np\n",
        "\n",
        "def weighted_mean(int_list, weights):\n",
        "    return np.average(int_list, weights=weights)\n",
        "\n",
        "weights = list(range(1, len(int_list)+1))\n",
        "\n",
        "def weighted_mean(int_list, weights):\n",
        "    return np.average(int_list, weights=weights)\n",
        "\n",
        "weighted_mean_value = weighted_mean(int_list, weights)\n",
        "print(\"Weighted mean:\", weighted_mean_value)\n"
      ],
      "metadata": {
        "colab": {
          "base_uri": "https://localhost:8080/"
        },
        "id": "hqhV8d0xI2bo",
        "outputId": "09e0df5f-44f0-485b-b2f4-8a4168b5f543"
      },
      "execution_count": null,
      "outputs": [
        {
          "output_type": "stream",
          "name": "stdout",
          "text": [
            "Weighted mean: 113.75168316831683\n"
          ]
        }
      ]
    },
    {
      "cell_type": "code",
      "source": [
        "\n",
        "\n",
        "\n",
        "import numpy as np\n",
        "import random\n",
        "\n",
        "# Generate a list of 100 random integers between 90 and 130\n",
        "int_list = [random.randint(90, 130) for _ in range(100)]\n",
        "\n",
        "# Weights corresponding to each value\n",
        "weights = list(range(1, len(int_list) + 1))\n",
        "\n",
        "# Calculate the weighted mean\n",
        "weighted_mean_value = np.average(int_list, weights=weights)\n",
        "\n",
        "# Print the result\n",
        "print(\"Weighted mean:\", weighted_mean_value)"
      ],
      "metadata": {
        "colab": {
          "base_uri": "https://localhost:8080/"
        },
        "id": "FeIlIqlbmgAF",
        "outputId": "a077c45e-53c9-4062-831e-b6a143fa9ab3"
      },
      "execution_count": null,
      "outputs": [
        {
          "output_type": "stream",
          "name": "stdout",
          "text": [
            "Weighted mean: 111.67168316831683\n"
          ]
        }
      ]
    },
    {
      "cell_type": "code",
      "source": [],
      "metadata": {
        "id": "cO1hTqv9m0uz"
      },
      "execution_count": null,
      "outputs": []
    },
    {
      "cell_type": "code",
      "source": [
        "#iv) Write a Python function to find the geometric mean of a list of positive numbers.\n",
        "\n",
        "\n",
        "from scipy.stats import gmean\n",
        "\n",
        "def geometric_mean(int_list):\n",
        "    \"\"\"\n",
        "    Calculate the geometric mean of a list of positive numbers.\n",
        "\n",
        "    Args:\n",
        "    - int_list (list): List of positive numbers.\n",
        "\n",
        "    Returns:\n",
        "    - float: Geometric mean.\n",
        "    \"\"\"\n",
        "    return gmean(int_list)\n",
        "\n",
        "# Example usage:\n",
        "\n",
        "geometric_mean_value = geometric_mean(int_list)\n",
        "print(\"Geometric mean:\", geometric_mean_value)\n"
      ],
      "metadata": {
        "colab": {
          "base_uri": "https://localhost:8080/"
        },
        "id": "EpQLZ5qCLSqo",
        "outputId": "1afce95b-2c18-4da2-baea-43f6823f71ff"
      },
      "execution_count": null,
      "outputs": [
        {
          "output_type": "stream",
          "name": "stdout",
          "text": [
            "Geometric mean: 111.08919503488173\n"
          ]
        }
      ]
    },
    {
      "cell_type": "code",
      "source": [
        "from scipy.stats import gmean\n",
        "\n",
        "\n",
        "# Calculate the geometric mean\n",
        "geometric_mean_value = gmean(int_list)\n",
        "\n",
        "# Print the result\n",
        "print(\"Geometric mean:\", geometric_mean_value)"
      ],
      "metadata": {
        "colab": {
          "base_uri": "https://localhost:8080/"
        },
        "id": "7aLB5Pm1nFoM",
        "outputId": "a60a710a-9e0a-453f-8f2f-a5f19ed4d632"
      },
      "execution_count": null,
      "outputs": [
        {
          "output_type": "stream",
          "name": "stdout",
          "text": [
            "Geometric mean: 110.24239515215739\n"
          ]
        }
      ]
    },
    {
      "cell_type": "code",
      "source": [
        "#(v) Create a program to calculate the harmonic mean of a list of values.\n",
        "\n",
        "from scipy.stats import hmean\n",
        "\n",
        "# Calculate the harmonic mean\n",
        "result = hmean(int_list)\n",
        "\n",
        "print(f\"The harmonic mean of {int_list} is: {result}\")"
      ],
      "metadata": {
        "colab": {
          "base_uri": "https://localhost:8080/"
        },
        "id": "jmhn4R_CNSkH",
        "outputId": "9511a65f-3a32-443a-dbe9-8e49da4cb0c5"
      },
      "execution_count": null,
      "outputs": [
        {
          "output_type": "stream",
          "name": "stdout",
          "text": [
            "The harmonic mean of [115, 117, 96, 109, 108, 90, 125, 92, 119, 91, 119, 109, 90, 111, 100, 127, 125, 97, 122, 97, 92, 120, 96, 120, 116, 130, 91, 97, 113, 91, 95, 95, 109, 116, 92, 93, 122, 116, 123, 107, 93, 127, 115, 91, 95, 92, 126, 100, 125, 112, 127, 129, 91, 101, 115, 122, 120, 126, 113, 100, 117, 101, 110, 91, 109, 93, 94, 119, 113, 127, 112, 126, 102, 113, 120, 124, 108, 99, 124, 97, 117, 111, 90, 126, 95, 127, 122, 111, 130, 101, 129, 107, 107, 91, 94, 92, 120, 98, 97, 115] is: 107.37962366452841\n"
          ]
        }
      ]
    },
    {
      "cell_type": "code",
      "source": [
        "#(vi) Build a function to determine the midrange of a list of numbers (average of the minimum and maximum).\n",
        "\n",
        "\n",
        "import numpy as np\n",
        "\n",
        "def midrange_numpy(numbers):\n",
        "    if not numbers:\n",
        "        return None\n",
        "    return np.mean([np.min(numbers), np.max(numbers)])\n",
        "\n",
        "# Example usage\n",
        "\n",
        "result = midrange_numpy(int_list)\n",
        "print(f\"The midrange of {int_list} is: {result}\")"
      ],
      "metadata": {
        "colab": {
          "base_uri": "https://localhost:8080/"
        },
        "id": "TZU8Q9iONlTW",
        "outputId": "9cb93619-a960-4f60-f31d-3961aa0b6ae4"
      },
      "execution_count": null,
      "outputs": [
        {
          "output_type": "stream",
          "name": "stdout",
          "text": [
            "The midrange of [115, 117, 96, 109, 108, 90, 125, 92, 119, 91, 119, 109, 90, 111, 100, 127, 125, 97, 122, 97, 92, 120, 96, 120, 116, 130, 91, 97, 113, 91, 95, 95, 109, 116, 92, 93, 122, 116, 123, 107, 93, 127, 115, 91, 95, 92, 126, 100, 125, 112, 127, 129, 91, 101, 115, 122, 120, 126, 113, 100, 117, 101, 110, 91, 109, 93, 94, 119, 113, 127, 112, 126, 102, 113, 120, 124, 108, 99, 124, 97, 117, 111, 90, 126, 95, 127, 122, 111, 130, 101, 129, 107, 107, 91, 94, 92, 120, 98, 97, 115] is: 110.0\n"
          ]
        }
      ]
    },
    {
      "cell_type": "code",
      "source": [
        "import numpy as np\n",
        "\n",
        "\n",
        "# Calculate the midrange\n",
        "midrange = np.mean([np.min(int_list), np.max(int_list)])\n",
        "\n",
        "# Print the result\n",
        "print(f\"The midrange of {int_list} is: {midrange}\")\n"
      ],
      "metadata": {
        "colab": {
          "base_uri": "https://localhost:8080/"
        },
        "id": "PWjcOq6OnW3s",
        "outputId": "ddf12702-7973-4f72-a143-39c90121c337"
      },
      "execution_count": null,
      "outputs": [
        {
          "output_type": "stream",
          "name": "stdout",
          "text": [
            "The midrange of [100, 93, 118, 127, 125, 96, 90, 123, 101, 114, 90, 94, 90, 110, 95, 116, 123, 116, 115, 112, 90, 122, 127, 110, 112, 129, 107, 126, 96, 110, 130, 109, 112, 105, 98, 117, 108, 130, 94, 118, 91, 118, 111, 99, 124, 109, 110, 124, 124, 102, 105, 110, 106, 98, 103, 125, 116, 91, 115, 91, 92, 111, 127, 116, 95, 121, 114, 111, 126, 105, 113, 119, 129, 109, 125, 105, 115, 116, 96, 125, 125, 121, 124, 101, 109, 116, 120, 107, 126, 118, 93, 118, 92, 104, 101, 109, 123, 109, 117, 113] is: 110.0\n"
          ]
        }
      ]
    },
    {
      "cell_type": "code",
      "source": [
        "#(vii) Implement a Python program to find the trimmed mean of a list, excluding a certain percentage of outliers.\n",
        "\n",
        "import numpy as np\n",
        "\n",
        "def trimmed_mean(int_list, trim_percent):\n",
        "    if not int_list:\n",
        "        return None\n",
        "    k = int(len(int_list) * trim_percent / 200)  # Calculate the number of elements to trim from both ends\n",
        "    sorted_data = np.sort(int_list)\n",
        "    trimmed_data = sorted_data[k:len(int_list)-k]  # Exclude the elements from both ends\n",
        "    return np.mean(trimmed_data)\n",
        "\n",
        "# Example usage\n",
        "trim_percent = 20  # Exclude 20% of outliers from each end\n",
        "result = trimmed_mean(int_list, trim_percent)\n",
        "print(f\"The trimmed mean of {int_list} excluding {trim_percent}% of outliers is: {result}\")"
      ],
      "metadata": {
        "colab": {
          "base_uri": "https://localhost:8080/"
        },
        "id": "e6v2hQSPQpmL",
        "outputId": "b7879261-6817-48dc-ee07-93a5817f957b"
      },
      "execution_count": null,
      "outputs": [
        {
          "output_type": "stream",
          "name": "stdout",
          "text": [
            "The trimmed mean of [115, 117, 96, 109, 108, 90, 125, 92, 119, 91, 119, 109, 90, 111, 100, 127, 125, 97, 122, 97, 92, 120, 96, 120, 116, 130, 91, 97, 113, 91, 95, 95, 109, 116, 92, 93, 122, 116, 123, 107, 93, 127, 115, 91, 95, 92, 126, 100, 125, 112, 127, 129, 91, 101, 115, 122, 120, 126, 113, 100, 117, 101, 110, 91, 109, 93, 94, 119, 113, 127, 112, 126, 102, 113, 120, 124, 108, 99, 124, 97, 117, 111, 90, 126, 95, 127, 122, 111, 130, 101, 129, 107, 107, 91, 94, 92, 120, 98, 97, 115] excluding 20% of outliers is: 108.825\n"
          ]
        }
      ]
    },
    {
      "cell_type": "code",
      "source": [
        "\n",
        "import numpy as np\n",
        "\n",
        "# Trim percentage (exclude 20% of outliers from each end)\n",
        "trim_percent = 20\n",
        "k = int(len(int_list) * trim_percent / 200)  # Calculate the number of elements to trim from both ends\n",
        "sorted_data = np.sort(int_list)\n",
        "trimmed_data = sorted_data[k:len(int_list)-k]  # Exclude the elements from both ends\n",
        "trimmed_mean_value = np.mean(trimmed_data)\n",
        "\n",
        "# Print the result\n",
        "print(f\"The trimmed mean of {int_list} excluding {trim_percent}% of outliers is: {trimmed_mean_value}\")"
      ],
      "metadata": {
        "colab": {
          "base_uri": "https://localhost:8080/"
        },
        "id": "G_yC8wvLnyg3",
        "outputId": "ce8240ab-8404-49c3-dbbc-cdb5ba18dc9d"
      },
      "execution_count": null,
      "outputs": [
        {
          "output_type": "stream",
          "name": "stdout",
          "text": [
            "The trimmed mean of [100, 93, 118, 127, 125, 96, 90, 123, 101, 114, 90, 94, 90, 110, 95, 116, 123, 116, 115, 112, 90, 122, 127, 110, 112, 129, 107, 126, 96, 110, 130, 109, 112, 105, 98, 117, 108, 130, 94, 118, 91, 118, 111, 99, 124, 109, 110, 124, 124, 102, 105, 110, 106, 98, 103, 125, 116, 91, 115, 91, 92, 111, 127, 116, 95, 121, 114, 111, 126, 105, 113, 119, 129, 109, 125, 105, 115, 116, 96, 125, 125, 121, 124, 101, 109, 116, 120, 107, 126, 118, 93, 118, 92, 104, 101, 109, 123, 109, 117, 113] excluding 20% of outliers is: 111.2375\n"
          ]
        }
      ]
    },
    {
      "cell_type": "code",
      "source": [
        "# Q-2 Generate a list of 500 integers containing values between 200 to 300 and store it in the variable `int_list2`.\n",
        "#After generating the list, find the following\n",
        "\n",
        "#(i) Compare the given list of visualization for the given data:\n",
        "\n",
        "\n",
        "\n",
        " #   1. Frequency & Gaussian distribution\n",
        "\n",
        "  #  2. Frequency smoothened KDE plot\n",
        "\n",
        "   # 3. Gaussian distribution & smoothened KDE plot\n",
        "\n",
        "\n",
        "  #(ii) Write a Python function to calculate the range of a given list of numbers.\n",
        "\n",
        "\n",
        "  #(iii) Create a program to find the variance and standard deviation of a list of numbers.\n",
        "\n",
        "\n",
        "  #(iv) Implement a function to compute the interquartile range (IQR) of a list of values.\n",
        "\n",
        "\n",
        "  #(v) Build a program to calculate the coefficient of variation for a dataset.\n",
        "\n",
        "\n",
        "\n",
        "  #(vi) Write a Python function to find the mean absolute deviation (MAD) of a list of numbers.\n",
        "\n",
        "\n",
        "  #(vii) Create a program to calculate the quartile deviation of a list of values.\n",
        "\n",
        "\n",
        "\n",
        "  #(viii) Implement a function to find the range-based coefficient of dispersion for a dataset."
      ],
      "metadata": {
        "id": "0HFRu24fC1p_"
      },
      "execution_count": null,
      "outputs": []
    },
    {
      "cell_type": "code",
      "source": [
        "#Generate a list of 500 integers containing values between 200 to 300 and store it in the variable `int_list2`.\n",
        "\n",
        "int_list2 = list(range(200, 300))  # Create a list of numbers from 200 to 300"
      ],
      "metadata": {
        "id": "4gqHzEU2Dc_Z"
      },
      "execution_count": null,
      "outputs": []
    },
    {
      "cell_type": "code",
      "source": [
        "int_list2"
      ],
      "metadata": {
        "colab": {
          "base_uri": "https://localhost:8080/"
        },
        "id": "SSI8ezvcUES9",
        "outputId": "1cf548f4-1064-41a0-fe86-0d7e4d710a67"
      },
      "execution_count": null,
      "outputs": [
        {
          "output_type": "execute_result",
          "data": {
            "text/plain": [
              "[200,\n",
              " 201,\n",
              " 202,\n",
              " 203,\n",
              " 204,\n",
              " 205,\n",
              " 206,\n",
              " 207,\n",
              " 208,\n",
              " 209,\n",
              " 210,\n",
              " 211,\n",
              " 212,\n",
              " 213,\n",
              " 214,\n",
              " 215,\n",
              " 216,\n",
              " 217,\n",
              " 218,\n",
              " 219,\n",
              " 220,\n",
              " 221,\n",
              " 222,\n",
              " 223,\n",
              " 224,\n",
              " 225,\n",
              " 226,\n",
              " 227,\n",
              " 228,\n",
              " 229,\n",
              " 230,\n",
              " 231,\n",
              " 232,\n",
              " 233,\n",
              " 234,\n",
              " 235,\n",
              " 236,\n",
              " 237,\n",
              " 238,\n",
              " 239,\n",
              " 240,\n",
              " 241,\n",
              " 242,\n",
              " 243,\n",
              " 244,\n",
              " 245,\n",
              " 246,\n",
              " 247,\n",
              " 248,\n",
              " 249,\n",
              " 250,\n",
              " 251,\n",
              " 252,\n",
              " 253,\n",
              " 254,\n",
              " 255,\n",
              " 256,\n",
              " 257,\n",
              " 258,\n",
              " 259,\n",
              " 260,\n",
              " 261,\n",
              " 262,\n",
              " 263,\n",
              " 264,\n",
              " 265,\n",
              " 266,\n",
              " 267,\n",
              " 268,\n",
              " 269,\n",
              " 270,\n",
              " 271,\n",
              " 272,\n",
              " 273,\n",
              " 274,\n",
              " 275,\n",
              " 276,\n",
              " 277,\n",
              " 278,\n",
              " 279,\n",
              " 280,\n",
              " 281,\n",
              " 282,\n",
              " 283,\n",
              " 284,\n",
              " 285,\n",
              " 286,\n",
              " 287,\n",
              " 288,\n",
              " 289,\n",
              " 290,\n",
              " 291,\n",
              " 292,\n",
              " 293,\n",
              " 294,\n",
              " 295,\n",
              " 296,\n",
              " 297,\n",
              " 298,\n",
              " 299]"
            ]
          },
          "metadata": {},
          "execution_count": 13
        }
      ]
    },
    {
      "cell_type": "code",
      "source": [
        "#(i) Compare the given list of visualization for the given data:\n",
        "\n",
        "\n",
        "#1. Frequency & Gaussian distribution\n",
        "\n",
        "import matplotlib.pyplot as plt\n",
        "import numpy as np\n",
        "\n",
        "# Plot the frequency distribution (histogram)\n",
        "plt.figure(figsize=(12, 6))\n",
        "\n",
        "plt.subplot(1, 2, 1)\n",
        "plt.hist(int_list2, bins=30, color='skyblue', edgecolor='black', alpha=0.7)\n",
        "plt.title('Frequency Distribution')\n",
        "plt.xlabel('Value')\n",
        "plt.ylabel('Frequency')\n",
        "\n",
        "# Plot the Gaussian distribution (normal curve)\n",
        "plt.subplot(1, 2, 2)\n",
        "count, bins, ignored = plt.hist(int_list2, bins=30, density=True, color='skyblue', edgecolor='black', alpha=0.7)\n",
        "mu, sigma = np.mean(int_list2), np.std(int_list2)\n",
        "plt.plot(bins, 1/(sigma * np.sqrt(2 * np.pi)) * np.exp(-(bins - mu)**2 / (2 * sigma**2)), linewidth=2, color='r')\n",
        "plt.title('Gaussian Distribution (Normal Curve)')\n",
        "plt.xlabel('Value')\n",
        "plt.ylabel('Density')\n",
        "\n",
        "plt.tight_layout()\n",
        "plt.show()\n",
        "\n",
        "\n"
      ],
      "metadata": {
        "colab": {
          "base_uri": "https://localhost:8080/",
          "height": 599
        },
        "id": "X9SmDtezUbYK",
        "outputId": "7b605d09-b75d-4a0a-85b9-1e9752e7c24e"
      },
      "execution_count": null,
      "outputs": [
        {
          "output_type": "display_data",
          "data": {
            "text/plain": [
              "<Figure size 1200x600 with 2 Axes>"
            ],
            "image/png": "[encoded data removed]"
          },
          "metadata": {}
        }
      ]
    },
    {
      "cell_type": "code",
      "source": [
        "#2. Frequency smoothened KDE plot\n",
        "\n",
        "\n",
        "\n",
        "import matplotlib.pyplot as plt\n",
        "import seaborn as sns\n",
        "import numpy as np\n",
        "\n",
        "\n",
        "# Create a frequency-smoothed KDE plot\n",
        "plt.figure(figsize=(8, 5))\n",
        "sns.kdeplot(int_list2, fill=True, bw_adjust=0.1)  # Adjust the bandwidth for smoothing\n",
        "plt.title('Frequency-Smoothed KDE Plot')\n",
        "plt.xlabel('Value')\n",
        "plt.ylabel('Density')\n",
        "plt.show()\n",
        "\n",
        "\n"
      ],
      "metadata": {
        "colab": {
          "base_uri": "https://localhost:8080/",
          "height": 487
        },
        "id": "6VuX0tYMYDb1",
        "outputId": "4884f39f-21aa-4f68-c147-5d0309daa126"
      },
      "execution_count": null,
      "outputs": [
        {
          "output_type": "display_data",
          "data": {
            "text/plain": [
              "<Figure size 800x500 with 1 Axes>"
            ],
            "image/png": "[encoded data removed]"
          },
          "metadata": {}
        }
      ]
    },
    {
      "cell_type": "code",
      "source": [
        "#3. Gaussian distribution & smoothened KDE plot\n",
        "\n",
        "\n",
        "import matplotlib.pyplot as plt\n",
        "import seaborn as sns\n",
        "import numpy as np\n",
        "\n",
        "\n",
        "# Create a Gaussian distribution (normal curve)\n",
        "plt.figure(figsize=(8, 5))\n",
        "mu, sigma = np.mean(int_list2), np.std(int_list2)\n",
        "x = np.linspace(mu - 3*sigma, mu + 3*sigma, 1000)\n",
        "plt.plot(x, 1/(sigma * np.sqrt(2 * np.pi)) * np.exp(-(x - mu)**2 / (2 * sigma**2)), color='r', label='Gaussian Distribution')\n",
        "\n",
        "# Create a smoothened KDE plot\n",
        "sns.kdeplot(int_list2, fill=True, color='b', label='KDE Plot')\n",
        "\n",
        "plt.title('Gaussian Distribution vs. KDE Plot')\n",
        "plt.xlabel('Value')\n",
        "plt.ylabel('Density')\n",
        "plt.legend()\n",
        "plt.show()"
      ],
      "metadata": {
        "colab": {
          "base_uri": "https://localhost:8080/",
          "height": 487
        },
        "id": "kVfNKlVaYMY3",
        "outputId": "e5064ac5-be29-4667-b4ac-e2c2051b8efc"
      },
      "execution_count": null,
      "outputs": [
        {
          "output_type": "display_data",
          "data": {
            "text/plain": [
              "<Figure size 800x500 with 1 Axes>"
            ],
            "image/png": "[encoded data removed]"
          },
          "metadata": {}
        }
      ]
    },
    {
      "cell_type": "code",
      "source": [
        "#Q-3 Write a Pyhon class representing a discrete random variable with methods to calculate its expected value and variance\n",
        "\n",
        "\n",
        "import numpy as np\n",
        "import pandas as pd\n",
        "\n",
        "class DiscreteRandomVariable:\n",
        "    def __init__(self, outcomes, probabilities):\n",
        "        self.outcomes = outcomes\n",
        "        self.probabilities = probabilities\n",
        "\n",
        "    def expected_value(self):\n",
        "        return np.sum(np.array(self.outcomes) * np.array(self.probabilities))\n",
        "\n",
        "    def variance(self):\n",
        "        expected_value = self.expected_value()\n",
        "        return np.sum(np.array(self.probabilities) * (np.array(self.outcomes) - expected_value) ** 2)\n",
        "\n",
        "# Example numpy usage\n",
        "outcomes = [1, 2, 3, 4, 5, 6]\n",
        "probabilities = [1/6, 1/6, 1/6, 1/6, 1/6, 1/6]\n",
        "dice_variable = DiscreteRandomVariable(outcomes, probabilities)\n",
        "print(\"Expected value (Numpy):\", dice_variable.expected_value())\n",
        "print(\"Variance:\", dice_variable.variance())\n",
        "\n",
        "# Using pandas\n",
        "data = {'outcomes': outcomes, 'probabilities': probabilities}\n",
        "df = pd.DataFrame(data)\n",
        "expected_value = np.sum(df['outcomes'] * df['probabilities'])\n",
        "variance = np.sum(df['probabilities'] * (df['outcomes'] - expected_value) ** 2)\n",
        "print(\"Expected value (Pandas):\", expected_value)\n",
        "print(\"Variance (Pandas):\", variance)\n"
      ],
      "metadata": {
        "id": "NNYJVnDwDbrj",
        "colab": {
          "base_uri": "https://localhost:8080/"
        },
        "outputId": "d66d60cf-6f30-4128-cdfd-d8c018870148"
      },
      "execution_count": null,
      "outputs": [
        {
          "output_type": "stream",
          "name": "stdout",
          "text": [
            "Expected value (Numpy): 3.5\n",
            "Variance: 2.9166666666666665\n",
            "Expected value (Pandas): 3.5\n",
            "Variance (Pandas): 2.9166666666666665\n"
          ]
        }
      ]
    },
    {
      "cell_type": "code",
      "source": [
        "\n",
        "#Q-4  Implement a program to simulate the rolling of a fair six-sided die and calculate the expected value and variance of the outcomes.\n",
        "\n",
        "\n",
        "class FairSixSidedDie:\n",
        "    def roll(self):\n",
        "        return random.randint(1, 6)\n",
        "\n",
        "def simulate_rolling(num_rolls):\n",
        "    die = FairSixSidedDie()\n",
        "    outcomes = [die.roll() for _ in range(num_rolls)]\n",
        "    return outcomes\n",
        "\n",
        "def calculate_expected_value(outcomes):\n",
        "    return sum(outcomes) / len(outcomes)\n",
        "\n",
        "def calculate_variance(outcomes):\n",
        "    expected_value = calculate_expected_value(outcomes)\n",
        "    squared_deviations = [(outcome - expected_value) ** 2 for outcome in outcomes]\n",
        "    return sum(squared_deviations) / len(outcomes)\n",
        "\n",
        "# Simulate rolling the die 1000 times\n",
        "outcomes = simulate_rolling(1000)\n",
        "expected_value = calculate_expected_value(outcomes)\n",
        "variance = calculate_variance(outcomes)\n",
        "\n",
        "print(\"Expected value (Python):\", expected_value)\n",
        "print(\"Variance:\", variance)"
      ],
      "metadata": {
        "id": "JF6AM2W8D326",
        "colab": {
          "base_uri": "https://localhost:8080/"
        },
        "outputId": "7d3f649e-348b-4d21-b962-65fdacccdb7b"
      },
      "execution_count": null,
      "outputs": [
        {
          "output_type": "stream",
          "name": "stdout",
          "text": [
            "Expected value (Python): 3.46\n",
            "Variance: 2.996399999999999\n"
          ]
        }
      ]
    },
    {
      "cell_type": "code",
      "source": [
        "import numpy as np\n",
        "import pandas as pd\n",
        "\n",
        "# Simulate rolling the die 1000 times numpy\n",
        "num_rolls = 1000\n",
        "outcomes = np.random.randint(1, 7, size=num_rolls)\n",
        "\n",
        "# Calculate expected value and variance numpy\n",
        "expected_value = np.mean(outcomes)\n",
        "variance = np.var(outcomes)\n",
        "\n",
        "print(\"Expected value (numpy):\", expected_value)\n",
        "print(\"Variance:\", variance)\n",
        "\n",
        "# Using pandas\n",
        "data = pd.Series(outcomes)\n",
        "expected_value_pd = data.mean()\n",
        "variance_pd = data.var()\n",
        "\n",
        "print(\"Expected value (Pandas):\", expected_value_pd)\n",
        "print(\"Variance (Pandas):\", variance_pd)"
      ],
      "metadata": {
        "id": "NU-mB9V-EDKj",
        "colab": {
          "base_uri": "https://localhost:8080/"
        },
        "outputId": "886885d0-80f6-4257-abe1-0fbd65f27ca2"
      },
      "execution_count": null,
      "outputs": [
        {
          "output_type": "stream",
          "name": "stdout",
          "text": [
            "Expected value (numpy): 3.525\n",
            "Variance: 3.047375\n",
            "Expected value (Pandas): 3.525\n",
            "Variance (Pandas): 3.0504254254254253\n"
          ]
        }
      ]
    },
    {
      "cell_type": "code",
      "source": [
        "#Q-5 Create a python Function to generate random samples from a given probability distribution\n",
        "# (e.g.,binomial, Poisson) and calculate their mean and variance.\n",
        "\n",
        "import numpy as np\n",
        "\n",
        "def generate_samples(distribution, size, *args):\n",
        "    if distribution == 'binomial':\n",
        "        n, p = args\n",
        "        samples = np.random.binomial(n, p, size=size)\n",
        "    elif distribution == 'poisson':\n",
        "        lam = args[0]\n",
        "        samples = np.random.poisson(lam, size=size)\n",
        "    else:\n",
        "        raise ValueError(\"Invalid distribution. Choose 'binomial' or 'poisson'.\")\n",
        "\n",
        "    mean = np.mean(samples)\n",
        "    variance = np.var(samples)\n",
        "    return samples, mean, variance\n",
        "\n",
        "# Example usage\n",
        "binomial_samples, binomial_mean, binomial_variance = generate_samples('binomial', 1000, 10, 0.5)\n",
        "poisson_samples, poisson_mean, poisson_variance = generate_samples('poisson', 1000, 5)\n",
        "\n",
        "print(\"Binomial Mean:\", binomial_mean)\n",
        "print(\"Binomial Variance:\", binomial_variance)\n",
        "print(\"Poisson Mean:\", poisson_mean)\n",
        "print(\"Poisson Variance:\", poisson_variance)\n"
      ],
      "metadata": {
        "id": "0wg5X-GpEDGp",
        "colab": {
          "base_uri": "https://localhost:8080/"
        },
        "outputId": "dd759be0-3eb7-4f54-b3eb-fcb31ec8424d"
      },
      "execution_count": null,
      "outputs": [
        {
          "output_type": "stream",
          "name": "stdout",
          "text": [
            "Binomial Mean: 5.064\n",
            "Binomial Variance: 2.549904\n",
            "Poisson Mean: 5.001\n",
            "Poisson Variance: 4.606999\n"
          ]
        }
      ]
    },
    {
      "cell_type": "code",
      "source": [],
      "metadata": {
        "id": "Ef-h_ItiEWkq"
      },
      "execution_count": null,
      "outputs": []
    },
    {
      "cell_type": "code",
      "source": [
        "#Q-6 Write a ython script to generate random numbers from\n",
        "#a Gaussian (normal) distribution and compute the mean, variance, and standard deviation of the samples.\n",
        "\n",
        "import numpy as np\n",
        "\n",
        "# Generate random numbers from a Gaussian distribution\n",
        "mu, sigma = 0, 1  # mean and standard deviation\n",
        "num_samples = 1000\n",
        "samples = np.random.normal(mu, sigma, num_samples)\n",
        "\n",
        "# Compute mean, variance, and standard deviation\n",
        "mean = np.mean(samples)\n",
        "variance = np.var(samples)\n",
        "std_dev = np.std(samples)\n",
        "\n",
        "# Print the results\n",
        "print(\"Random number samples:\", samples[:10])  # Print first 10 samples\n",
        "print(\"Mean:\", mean)\n",
        "print(\"Variance:\", variance)\n",
        "print(\"Standard Deviation:\", std_dev)"
      ],
      "metadata": {
        "id": "drWB3ru3EWgq",
        "colab": {
          "base_uri": "https://localhost:8080/"
        },
        "outputId": "621bc64a-5b21-4f62-826a-b9e0cb0511f7"
      },
      "execution_count": null,
      "outputs": [
        {
          "output_type": "stream",
          "name": "stdout",
          "text": [
            "Random number samples: [ 1.2303522   0.88389682 -1.30650883  0.87327145  0.90151143 -0.48031085\n",
            "  1.5372517   0.75984624  1.2933561  -0.29554213]\n",
            "Mean: 0.003400300908746214\n",
            "Variance: 0.9918602109593767\n",
            "Standard Deviation: 0.9959217895795717\n"
          ]
        }
      ]
    },
    {
      "cell_type": "code",
      "source": [],
      "metadata": {
        "id": "vyzjjv9BEfnx"
      },
      "execution_count": null,
      "outputs": []
    },
    {
      "cell_type": "code",
      "source": [
        "#Q-7 Use seaborn library to load tips dataset. Find the following from the dataset for the columns total_bill and tip`:\n",
        "\n",
        "\n",
        "\n",
        " #(i) Write a Python function that calculates their skewness.\n",
        "\n",
        "\n",
        "  #(ii) Create a program that determines whether the columns exhibitt positive skewness, negative skewness, or is approximately symmetric.\n",
        "\n",
        "\n",
        "  #(iii) Write a function that calculates the covariance between two columns.\n",
        "\n",
        "\n",
        "  #(iv) Implement a Python program that calculates the Pearson correlation coefficient between two columns.\n",
        "\n",
        "\n",
        "  #(v) Write a script to visualize the correlation between two specific columns in a Pandas DataFrame using scatter plots.\n",
        "\n"
      ],
      "metadata": {
        "id": "Oaa3891uEp1q"
      },
      "execution_count": null,
      "outputs": []
    },
    {
      "cell_type": "code",
      "source": [
        "#Use seaborn library to load tips dataset. Find the following from the dataset for the columns total_bill and tip`:\n",
        "\n",
        "import pandas as pd\n",
        "import numpy as np\n",
        "import seaborn as sns\n",
        "df = sns.load_dataset('tips')"
      ],
      "metadata": {
        "id": "8UdNGjb1F6DI"
      },
      "execution_count": null,
      "outputs": []
    },
    {
      "cell_type": "code",
      "source": [
        "df"
      ],
      "metadata": {
        "colab": {
          "base_uri": "https://localhost:8080/",
          "height": 423
        },
        "id": "SVoIDm_zXzfx",
        "outputId": "088202a4-6827-45c8-b482-b6a0a72ad247"
      },
      "execution_count": null,
      "outputs": [
        {
          "output_type": "execute_result",
          "data": {
            "text/plain": [
              "     total_bill   tip     sex smoker   day    time  size\n",
              "0         16.99  1.01  Female     No   Sun  Dinner     2\n",
              "1         10.34  1.66    Male     No   Sun  Dinner     3\n",
              "2         21.01  3.50    Male     No   Sun  Dinner     3\n",
              "3         23.68  3.31    Male     No   Sun  Dinner     2\n",
              "4         24.59  3.61  Female     No   Sun  Dinner     4\n",
              "..          ...   ...     ...    ...   ...     ...   ...\n",
              "239       29.03  5.92    Male     No   Sat  Dinner     3\n",
              "240       27.18  2.00  Female    Yes   Sat  Dinner     2\n",
              "241       22.67  2.00    Male    Yes   Sat  Dinner     2\n",
              "242       17.82  1.75    Male     No   Sat  Dinner     2\n",
              "243       18.78  3.00  Female     No  Thur  Dinner     2\n",
              "\n",
              "[244 rows x 7 columns]"
            ],
            "text/html": [
              "\n",
              "  <div id=\"df-5220501d-1071-4e65-add6-2aa618fced2e\" class=\"colab-df-container\">\n",
              "    <div>\n",
              "<style scoped>\n",
              "    .dataframe tbody tr th:only-of-type {\n",
              "        vertical-align: middle;\n",
              "    }\n",
              "\n",
              "    .dataframe tbody tr th {\n",
              "        vertical-align: top;\n",
              "    }\n",
              "\n",
              "    .dataframe thead th {\n",
              "        text-align: right;\n",
              "    }\n",
              "</style>\n",
              "<table border=\"1\" class=\"dataframe\">\n",
              "  <thead>\n",
              "    <tr style=\"text-align: right;\">\n",
              "      <th></th>\n",
              "      <th>total_bill</th>\n",
              "      <th>tip</th>\n",
              "      <th>sex</th>\n",
              "      <th>smoker</th>\n",
              "      <th>day</th>\n",
              "      <th>time</th>\n",
              "      <th>size</th>\n",
              "    </tr>\n",
              "  </thead>\n",
              "  <tbody>\n",
              "    <tr>\n",
              "      <th>0</th>\n",
              "      <td>16.99</td>\n",
              "      <td>1.01</td>\n",
              "      <td>Female</td>\n",
              "      <td>No</td>\n",
              "      <td>Sun</td>\n",
              "      <td>Dinner</td>\n",
              "      <td>2</td>\n",
              "    </tr>\n",
              "    <tr>\n",
              "      <th>1</th>\n",
              "      <td>10.34</td>\n",
              "      <td>1.66</td>\n",
              "      <td>Male</td>\n",
              "      <td>No</td>\n",
              "      <td>Sun</td>\n",
              "      <td>Dinner</td>\n",
              "      <td>3</td>\n",
              "    </tr>\n",
              "    <tr>\n",
              "      <th>2</th>\n",
              "      <td>21.01</td>\n",
              "      <td>3.50</td>\n",
              "      <td>Male</td>\n",
              "      <td>No</td>\n",
              "      <td>Sun</td>\n",
              "      <td>Dinner</td>\n",
              "      <td>3</td>\n",
              "    </tr>\n",
              "    <tr>\n",
              "      <th>3</th>\n",
              "      <td>23.68</td>\n",
              "      <td>3.31</td>\n",
              "      <td>Male</td>\n",
              "      <td>No</td>\n",
              "      <td>Sun</td>\n",
              "      <td>Dinner</td>\n",
              "      <td>2</td>\n",
              "    </tr>\n",
              "    <tr>\n",
              "      <th>4</th>\n",
              "      <td>24.59</td>\n",
              "      <td>3.61</td>\n",
              "      <td>Female</td>\n",
              "      <td>No</td>\n",
              "      <td>Sun</td>\n",
              "      <td>Dinner</td>\n",
              "      <td>4</td>\n",
              "    </tr>\n",
              "    <tr>\n",
              "      <th>...</th>\n",
              "      <td>...</td>\n",
              "      <td>...</td>\n",
              "      <td>...</td>\n",
              "      <td>...</td>\n",
              "      <td>...</td>\n",
              "      <td>...</td>\n",
              "      <td>...</td>\n",
              "    </tr>\n",
              "    <tr>\n",
              "      <th>239</th>\n",
              "      <td>29.03</td>\n",
              "      <td>5.92</td>\n",
              "      <td>Male</td>\n",
              "      <td>No</td>\n",
              "      <td>Sat</td>\n",
              "      <td>Dinner</td>\n",
              "      <td>3</td>\n",
              "    </tr>\n",
              "    <tr>\n",
              "      <th>240</th>\n",
              "      <td>27.18</td>\n",
              "      <td>2.00</td>\n",
              "      <td>Female</td>\n",
              "      <td>Yes</td>\n",
              "      <td>Sat</td>\n",
              "      <td>Dinner</td>\n",
              "      <td>2</td>\n",
              "    </tr>\n",
              "    <tr>\n",
              "      <th>241</th>\n",
              "      <td>22.67</td>\n",
              "      <td>2.00</td>\n",
              "      <td>Male</td>\n",
              "      <td>Yes</td>\n",
              "      <td>Sat</td>\n",
              "      <td>Dinner</td>\n",
              "      <td>2</td>\n",
              "    </tr>\n",
              "    <tr>\n",
              "      <th>242</th>\n",
              "      <td>17.82</td>\n",
              "      <td>1.75</td>\n",
              "      <td>Male</td>\n",
              "      <td>No</td>\n",
              "      <td>Sat</td>\n",
              "      <td>Dinner</td>\n",
              "      <td>2</td>\n",
              "    </tr>\n",
              "    <tr>\n",
              "      <th>243</th>\n",
              "      <td>18.78</td>\n",
              "      <td>3.00</td>\n",
              "      <td>Female</td>\n",
              "      <td>No</td>\n",
              "      <td>Thur</td>\n",
              "      <td>Dinner</td>\n",
              "      <td>2</td>\n",
              "    </tr>\n",
              "  </tbody>\n",
              "</table>\n",
              "<p>244 rows × 7 columns</p>\n",
              "</div>\n",
              "    <div class=\"colab-df-buttons\">\n",
              "\n",
              "  <div class=\"colab-df-container\">\n",
              "    <button class=\"colab-df-convert\" onclick=\"convertToInteractive('df-5220501d-1071-4e65-add6-2aa618fced2e')\"\n",
              "            title=\"Convert this dataframe to an interactive table.\"\n",
              "            style=\"display:none;\">\n",
              "\n",
              "  <svg xmlns=\"http://www.w3.org/2000/svg\" height=\"24px\" viewBox=\"0 -960 960 960\">\n",
              "    <path d=\"M120-120v-720h720v720H120Zm60-500h600v-160H180v160Zm220 220h160v-160H400v160Zm0 220h160v-160H400v160ZM180-400h160v-160H180v160Zm440 0h160v-160H620v160ZM180-180h160v-160H180v160Zm440 0h160v-160H620v160Z\"/>\n",
              "  </svg>\n",
              "    </button>\n",
              "\n",
              "  <style>\n",
              "    .colab-df-container {\n",
              "      display:flex;\n",
              "      gap: 12px;\n",
              "    }\n",
              "\n",
              "    .colab-df-convert {\n",
              "      background-color: #E8F0FE;\n",
              "      border: none;\n",
              "      border-radius: 50%;\n",
              "      cursor: pointer;\n",
              "      display: none;\n",
              "      fill: #1967D2;\n",
              "      height: 32px;\n",
              "      padding: 0 0 0 0;\n",
              "      width: 32px;\n",
              "    }\n",
              "\n",
              "    .colab-df-convert:hover {\n",
              "      background-color: #E2EBFA;\n",
              "      box-shadow: 0px 1px 2px rgba(60, 64, 67, 0.3), 0px 1px 3px 1px rgba(60, 64, 67, 0.15);\n",
              "      fill: #174EA6;\n",
              "    }\n",
              "\n",
              "    .colab-df-buttons div {\n",
              "      margin-bottom: 4px;\n",
              "    }\n",
              "\n",
              "    [theme=dark] .colab-df-convert {\n",
              "      background-color: #3B4455;\n",
              "      fill: #D2E3FC;\n",
              "    }\n",
              "\n",
              "    [theme=dark] .colab-df-convert:hover {\n",
              "      background-color: #434B5C;\n",
              "      box-shadow: 0px 1px 3px 1px rgba(0, 0, 0, 0.15);\n",
              "      filter: drop-shadow(0px 1px 2px rgba(0, 0, 0, 0.3));\n",
              "      fill: #FFFFFF;\n",
              "    }\n",
              "  </style>\n",
              "\n",
              "    <script>\n",
              "      const buttonEl =\n",
              "        document.querySelector('#df-5220501d-1071-4e65-add6-2aa618fced2e button.colab-df-convert');\n",
              "      buttonEl.style.display =\n",
              "        google.colab.kernel.accessAllowed ? 'block' : 'none';\n",
              "\n",
              "      async function convertToInteractive(key) {\n",
              "        const element = document.querySelector('#df-5220501d-1071-4e65-add6-2aa618fced2e');\n",
              "        const dataTable =\n",
              "          await google.colab.kernel.invokeFunction('convertToInteractive',\n",
              "                                                    [key], {});\n",
              "        if (!dataTable) return;\n",
              "\n",
              "        const docLinkHtml = 'Like what you see? Visit the ' +\n",
              "          '<a target=\"_blank\" href=https://colab.research.google.com/notebooks/data_table.ipynb>data table notebook</a>'\n",
              "          + ' to learn more about interactive tables.';\n",
              "        element.innerHTML = '';\n",
              "        dataTable['output_type'] = 'display_data';\n",
              "        await google.colab.output.renderOutput(dataTable, element);\n",
              "        const docLink = document.createElement('div');\n",
              "        docLink.innerHTML = docLinkHtml;\n",
              "        element.appendChild(docLink);\n",
              "      }\n",
              "    </script>\n",
              "  </div>\n",
              "\n",
              "\n",
              "<div id=\"df-a9793802-b2d9-4953-a2c5-8ec702a6abe2\">\n",
              "  <button class=\"colab-df-quickchart\" onclick=\"quickchart('df-a9793802-b2d9-4953-a2c5-8ec702a6abe2')\"\n",
              "            title=\"Suggest charts\"\n",
              "            style=\"display:none;\">\n",
              "\n",
              "<svg xmlns=\"http://www.w3.org/2000/svg\" height=\"24px\"viewBox=\"0 0 24 24\"\n",
              "     width=\"24px\">\n",
              "    <g>\n",
              "        <path d=\"M19 3H5c-1.1 0-2 .9-2 2v14c0 1.1.9 2 2 2h14c1.1 0 2-.9 2-2V5c0-1.1-.9-2-2-2zM9 17H7v-7h2v7zm4 0h-2V7h2v10zm4 0h-2v-4h2v4z\"/>\n",
              "    </g>\n",
              "</svg>\n",
              "  </button>\n",
              "\n",
              "<style>\n",
              "  .colab-df-quickchart {\n",
              "      --bg-color: #E8F0FE;\n",
              "      --fill-color: #1967D2;\n",
              "      --hover-bg-color: #E2EBFA;\n",
              "      --hover-fill-color: #174EA6;\n",
              "      --disabled-fill-color: #AAA;\n",
              "      --disabled-bg-color: #DDD;\n",
              "  }\n",
              "\n",
              "  [theme=dark] .colab-df-quickchart {\n",
              "      --bg-color: #3B4455;\n",
              "      --fill-color: #D2E3FC;\n",
              "      --hover-bg-color: #434B5C;\n",
              "      --hover-fill-color: #FFFFFF;\n",
              "      --disabled-bg-color: #3B4455;\n",
              "      --disabled-fill-color: #666;\n",
              "  }\n",
              "\n",
              "  .colab-df-quickchart {\n",
              "    background-color: var(--bg-color);\n",
              "    border: none;\n",
              "    border-radius: 50%;\n",
              "    cursor: pointer;\n",
              "    display: none;\n",
              "    fill: var(--fill-color);\n",
              "    height: 32px;\n",
              "    padding: 0;\n",
              "    width: 32px;\n",
              "  }\n",
              "\n",
              "  .colab-df-quickchart:hover {\n",
              "    background-color: var(--hover-bg-color);\n",
              "    box-shadow: 0 1px 2px rgba(60, 64, 67, 0.3), 0 1px 3px 1px rgba(60, 64, 67, 0.15);\n",
              "    fill: var(--button-hover-fill-color);\n",
              "  }\n",
              "\n",
              "  .colab-df-quickchart-complete:disabled,\n",
              "  .colab-df-quickchart-complete:disabled:hover {\n",
              "    background-color: var(--disabled-bg-color);\n",
              "    fill: var(--disabled-fill-color);\n",
              "    box-shadow: none;\n",
              "  }\n",
              "\n",
              "  .colab-df-spinner {\n",
              "    border: 2px solid var(--fill-color);\n",
              "    border-color: transparent;\n",
              "    border-bottom-color: var(--fill-color);\n",
              "    animation:\n",
              "      spin 1s steps(1) infinite;\n",
              "  }\n",
              "\n",
              "  @keyframes spin {\n",
              "    0% {\n",
              "      border-color: transparent;\n",
              "      border-bottom-color: var(--fill-color);\n",
              "      border-left-color: var(--fill-color);\n",
              "    }\n",
              "    20% {\n",
              "      border-color: transparent;\n",
              "      border-left-color: var(--fill-color);\n",
              "      border-top-color: var(--fill-color);\n",
              "    }\n",
              "    30% {\n",
              "      border-color: transparent;\n",
              "      border-left-color: var(--fill-color);\n",
              "      border-top-color: var(--fill-color);\n",
              "      border-right-color: var(--fill-color);\n",
              "    }\n",
              "    40% {\n",
              "      border-color: transparent;\n",
              "      border-right-color: var(--fill-color);\n",
              "      border-top-color: var(--fill-color);\n",
              "    }\n",
              "    60% {\n",
              "      border-color: transparent;\n",
              "      border-right-color: var(--fill-color);\n",
              "    }\n",
              "    80% {\n",
              "      border-color: transparent;\n",
              "      border-right-color: var(--fill-color);\n",
              "      border-bottom-color: var(--fill-color);\n",
              "    }\n",
              "    90% {\n",
              "      border-color: transparent;\n",
              "      border-bottom-color: var(--fill-color);\n",
              "    }\n",
              "  }\n",
              "</style>\n",
              "\n",
              "  <script>\n",
              "    async function quickchart(key) {\n",
              "      const quickchartButtonEl =\n",
              "        document.querySelector('#' + key + ' button');\n",
              "      quickchartButtonEl.disabled = true;  // To prevent multiple clicks.\n",
              "      quickchartButtonEl.classList.add('colab-df-spinner');\n",
              "      try {\n",
              "        const charts = await google.colab.kernel.invokeFunction(\n",
              "            'suggestCharts', [key], {});\n",
              "      } catch (error) {\n",
              "        console.error('Error during call to suggestCharts:', error);\n",
              "      }\n",
              "      quickchartButtonEl.classList.remove('colab-df-spinner');\n",
              "      quickchartButtonEl.classList.add('colab-df-quickchart-complete');\n",
              "    }\n",
              "    (() => {\n",
              "      let quickchartButtonEl =\n",
              "        document.querySelector('#df-a9793802-b2d9-4953-a2c5-8ec702a6abe2 button');\n",
              "      quickchartButtonEl.style.display =\n",
              "        google.colab.kernel.accessAllowed ? 'block' : 'none';\n",
              "    })();\n",
              "  </script>\n",
              "</div>\n",
              "\n",
              "  <div id=\"id_fbc7fd1b-8ce2-4532-a336-77ecd1703c2b\">\n",
              "    <style>\n",
              "      .colab-df-generate {\n",
              "        background-color: #E8F0FE;\n",
              "        border: none;\n",
              "        border-radius: 50%;\n",
              "        cursor: pointer;\n",
              "        display: none;\n",
              "        fill: #1967D2;\n",
              "        height: 32px;\n",
              "        padding: 0 0 0 0;\n",
              "        width: 32px;\n",
              "      }\n",
              "\n",
              "      .colab-df-generate:hover {\n",
              "        background-color: #E2EBFA;\n",
              "        box-shadow: 0px 1px 2px rgba(60, 64, 67, 0.3), 0px 1px 3px 1px rgba(60, 64, 67, 0.15);\n",
              "        fill: #174EA6;\n",
              "      }\n",
              "\n",
              "      [theme=dark] .colab-df-generate {\n",
              "        background-color: #3B4455;\n",
              "        fill: #D2E3FC;\n",
              "      }\n",
              "\n",
              "      [theme=dark] .colab-df-generate:hover {\n",
              "        background-color: #434B5C;\n",
              "        box-shadow: 0px 1px 3px 1px rgba(0, 0, 0, 0.15);\n",
              "        filter: drop-shadow(0px 1px 2px rgba(0, 0, 0, 0.3));\n",
              "        fill: #FFFFFF;\n",
              "      }\n",
              "    </style>\n",
              "    <button class=\"colab-df-generate\" onclick=\"generateWithVariable('df')\"\n",
              "            title=\"Generate code using this dataframe.\"\n",
              "            style=\"display:none;\">\n",
              "\n",
              "  <svg xmlns=\"http://www.w3.org/2000/svg\" height=\"24px\"viewBox=\"0 0 24 24\"\n",
              "       width=\"24px\">\n",
              "    <path d=\"M7,19H8.4L18.45,9,17,7.55,7,17.6ZM5,21V16.75L18.45,3.32a2,2,0,0,1,2.83,0l1.4,1.43a1.91,1.91,0,0,1,.58,1.4,1.91,1.91,0,0,1-.58,1.4L9.25,21ZM18.45,9,17,7.55Zm-12,3A5.31,5.31,0,0,0,4.9,8.1,5.31,5.31,0,0,0,1,6.5,5.31,5.31,0,0,0,4.9,4.9,5.31,5.31,0,0,0,6.5,1,5.31,5.31,0,0,0,8.1,4.9,5.31,5.31,0,0,0,12,6.5,5.46,5.46,0,0,0,6.5,12Z\"/>\n",
              "  </svg>\n",
              "    </button>\n",
              "    <script>\n",
              "      (() => {\n",
              "      const buttonEl =\n",
              "        document.querySelector('#id_fbc7fd1b-8ce2-4532-a336-77ecd1703c2b button.colab-df-generate');\n",
              "      buttonEl.style.display =\n",
              "        google.colab.kernel.accessAllowed ? 'block' : 'none';\n",
              "\n",
              "      buttonEl.onclick = () => {\n",
              "        google.colab.notebook.generateWithVariable('df');\n",
              "      }\n",
              "      })();\n",
              "    </script>\n",
              "  </div>\n",
              "\n",
              "    </div>\n",
              "  </div>\n"
            ],
            "application/vnd.google.colaboratory.intrinsic+json": {
              "type": "dataframe",
              "variable_name": "df",
              "summary": "{\n  \"name\": \"df\",\n  \"rows\": 244,\n  \"fields\": [\n    {\n      \"column\": \"total_bill\",\n      \"properties\": {\n        \"dtype\": \"number\",\n        \"std\": 8.902411954856856,\n        \"min\": 3.07,\n        \"max\": 50.81,\n        \"num_unique_values\": 229,\n        \"samples\": [\n          22.12,\n          20.23,\n          14.78\n        ],\n        \"semantic_type\": \"\",\n        \"description\": \"\"\n      }\n    },\n    {\n      \"column\": \"tip\",\n      \"properties\": {\n        \"dtype\": \"number\",\n        \"std\": 1.3836381890011822,\n        \"min\": 1.0,\n        \"max\": 10.0,\n        \"num_unique_values\": 123,\n        \"samples\": [\n          3.35,\n          1.5,\n          6.73\n        ],\n        \"semantic_type\": \"\",\n        \"description\": \"\"\n      }\n    },\n    {\n      \"column\": \"sex\",\n      \"properties\": {\n        \"dtype\": \"category\",\n        \"num_unique_values\": 2,\n        \"samples\": [\n          \"Male\",\n          \"Female\"\n        ],\n        \"semantic_type\": \"\",\n        \"description\": \"\"\n      }\n    },\n    {\n      \"column\": \"smoker\",\n      \"properties\": {\n        \"dtype\": \"category\",\n        \"num_unique_values\": 2,\n        \"samples\": [\n          \"Yes\",\n          \"No\"\n        ],\n        \"semantic_type\": \"\",\n        \"description\": \"\"\n      }\n    },\n    {\n      \"column\": \"day\",\n      \"properties\": {\n        \"dtype\": \"category\",\n        \"num_unique_values\": 4,\n        \"samples\": [\n          \"Sat\",\n          \"Fri\"\n        ],\n        \"semantic_type\": \"\",\n        \"description\": \"\"\n      }\n    },\n    {\n      \"column\": \"time\",\n      \"properties\": {\n        \"dtype\": \"category\",\n        \"num_unique_values\": 2,\n        \"samples\": [\n          \"Lunch\",\n          \"Dinner\"\n        ],\n        \"semantic_type\": \"\",\n        \"description\": \"\"\n      }\n    },\n    {\n      \"column\": \"size\",\n      \"properties\": {\n        \"dtype\": \"number\",\n        \"std\": 0,\n        \"min\": 1,\n        \"max\": 6,\n        \"num_unique_values\": 6,\n        \"samples\": [\n          2,\n          3\n        ],\n        \"semantic_type\": \"\",\n        \"description\": \"\"\n      }\n    }\n  ]\n}"
            }
          },
          "metadata": {},
          "execution_count": 29
        }
      ]
    },
    {
      "cell_type": "code",
      "source": [
        "#Find the following from the dataset for the columns total_bill and tip`:\n",
        "\n",
        "#(i) Write a Python function that calculates their skewness.\n",
        "\n",
        "import seaborn as sns\n",
        "from scipy.stats import skew\n",
        "\n",
        "def calculate_skewness(df):\n",
        "    return skew(df['total_bill']), skew(df['tip'])\n",
        "\n",
        "# Load the 'tips' dataset\n",
        "df = sns.load_dataset('tips')\n",
        "\n",
        "# Calculate skewness\n",
        "total_bill_skewness, tip_skewness = calculate_skewness(df)\n",
        "print(\"Total Bill Skewness:\", total_bill_skewness)\n",
        "print(\"Tip Skewness:\", tip_skewness)"
      ],
      "metadata": {
        "colab": {
          "base_uri": "https://localhost:8080/"
        },
        "id": "_lMYAUIfXzXs",
        "outputId": "a4761927-1062-470d-fdc2-3ef195395b85"
      },
      "execution_count": null,
      "outputs": [
        {
          "output_type": "stream",
          "name": "stdout",
          "text": [
            "Total Bill Skewness: 1.1262346334818638\n",
            "Tip Skewness: 1.4564266884221506\n"
          ]
        }
      ]
    },
    {
      "cell_type": "code",
      "source": [
        "import seaborn as sns\n",
        "from scipy.stats import skew\n",
        "\n",
        "# Load the 'tips' dataset\n",
        "df = sns.load_dataset('tips')\n",
        "\n",
        "# Calculate skewness\n",
        "total_bill_skewness = skew(df['total_bill'])\n",
        "tip_skewness = skew(df['tip'])\n",
        "\n",
        "print(\"Total Bill Skewness:\", total_bill_skewness)\n",
        "print(\"Tip Skewness:\", tip_skewness)"
      ],
      "metadata": {
        "colab": {
          "base_uri": "https://localhost:8080/"
        },
        "id": "9vAmcrY3XzUJ",
        "outputId": "56b5aaba-dc6a-4144-fdfb-991ebc3880de"
      },
      "execution_count": null,
      "outputs": [
        {
          "output_type": "stream",
          "name": "stdout",
          "text": [
            "Total Bill Skewness: 1.1262346334818638\n",
            "Tip Skewness: 1.4564266884221506\n"
          ]
        }
      ]
    },
    {
      "cell_type": "code",
      "source": [
        "#(ii) Create a program that determines whether the columns exhibits positive skewness, negative skewness, or is approximately symmetric.\n",
        "\n",
        "\n",
        "import pandas as pd\n",
        "import seaborn as sns\n",
        "from scipy.stats import skew\n",
        "\n",
        "# Load the 'tips' dataset\n",
        "df = sns.load_dataset('tips')\n",
        "\n",
        "# Filter out non-numeric columns\n",
        "numeric_columns = df.select_dtypes(include=['number']).columns\n",
        "\n",
        "# Calculate skewness\n",
        "skewness = df[numeric_columns].apply(skew)\n",
        "\n",
        "# Determine skewness type\n",
        "skewness_type = {column: ('Positive Skewness' if skew_value > 0.5 else\n",
        "                           'Negative Skewness' if skew_value < -0.5 else\n",
        "                           'Approximately Symmetric')\n",
        "                 for column, skew_value in zip(skewness.index, skewness)}\n",
        "\n",
        "# Print results\n",
        "print('\\n'.join([f\"{column}: {skew_type}\" for column, skew_type in skewness_type.items()]))"
      ],
      "metadata": {
        "colab": {
          "base_uri": "https://localhost:8080/"
        },
        "id": "f9VIwd2gXzRN",
        "outputId": "3b18bacf-5838-4d05-aa39-6143863a7ef1"
      },
      "execution_count": null,
      "outputs": [
        {
          "output_type": "stream",
          "name": "stdout",
          "text": [
            "total_bill: Positive Skewness\n",
            "tip: Positive Skewness\n",
            "size: Positive Skewness\n"
          ]
        }
      ]
    },
    {
      "cell_type": "code",
      "source": [
        "#(iii) Write a function that calculates the covariance between two columns.\n",
        "\n",
        "df.cov(numeric_only = True)\n"
      ],
      "metadata": {
        "colab": {
          "base_uri": "https://localhost:8080/",
          "height": 143
        },
        "id": "GfpL1NTMjWfr",
        "outputId": "d13ad56e-e36f-4f62-dae2-4289aa13dc44"
      },
      "execution_count": null,
      "outputs": [
        {
          "output_type": "execute_result",
          "data": {
            "text/plain": [
              "            total_bill       tip      size\n",
              "total_bill   79.252939  8.323502  5.065983\n",
              "tip           8.323502  1.914455  0.643906\n",
              "size          5.065983  0.643906  0.904591"
            ],
            "text/html": [
              "\n",
              "  <div id=\"df-2669b4c0-dd47-4487-a2a8-253d6aee3606\" class=\"colab-df-container\">\n",
              "    <div>\n",
              "<style scoped>\n",
              "    .dataframe tbody tr th:only-of-type {\n",
              "        vertical-align: middle;\n",
              "    }\n",
              "\n",
              "    .dataframe tbody tr th {\n",
              "        vertical-align: top;\n",
              "    }\n",
              "\n",
              "    .dataframe thead th {\n",
              "        text-align: right;\n",
              "    }\n",
              "</style>\n",
              "<table border=\"1\" class=\"dataframe\">\n",
              "  <thead>\n",
              "    <tr style=\"text-align: right;\">\n",
              "      <th></th>\n",
              "      <th>total_bill</th>\n",
              "      <th>tip</th>\n",
              "      <th>size</th>\n",
              "    </tr>\n",
              "  </thead>\n",
              "  <tbody>\n",
              "    <tr>\n",
              "      <th>total_bill</th>\n",
              "      <td>79.252939</td>\n",
              "      <td>8.323502</td>\n",
              "      <td>5.065983</td>\n",
              "    </tr>\n",
              "    <tr>\n",
              "      <th>tip</th>\n",
              "      <td>8.323502</td>\n",
              "      <td>1.914455</td>\n",
              "      <td>0.643906</td>\n",
              "    </tr>\n",
              "    <tr>\n",
              "      <th>size</th>\n",
              "      <td>5.065983</td>\n",
              "      <td>0.643906</td>\n",
              "      <td>0.904591</td>\n",
              "    </tr>\n",
              "  </tbody>\n",
              "</table>\n",
              "</div>\n",
              "    <div class=\"colab-df-buttons\">\n",
              "\n",
              "  <div class=\"colab-df-container\">\n",
              "    <button class=\"colab-df-convert\" onclick=\"convertToInteractive('df-2669b4c0-dd47-4487-a2a8-253d6aee3606')\"\n",
              "            title=\"Convert this dataframe to an interactive table.\"\n",
              "            style=\"display:none;\">\n",
              "\n",
              "  <svg xmlns=\"http://www.w3.org/2000/svg\" height=\"24px\" viewBox=\"0 -960 960 960\">\n",
              "    <path d=\"M120-120v-720h720v720H120Zm60-500h600v-160H180v160Zm220 220h160v-160H400v160Zm0 220h160v-160H400v160ZM180-400h160v-160H180v160Zm440 0h160v-160H620v160ZM180-180h160v-160H180v160Zm440 0h160v-160H620v160Z\"/>\n",
              "  </svg>\n",
              "    </button>\n",
              "\n",
              "  <style>\n",
              "    .colab-df-container {\n",
              "      display:flex;\n",
              "      gap: 12px;\n",
              "    }\n",
              "\n",
              "    .colab-df-convert {\n",
              "      background-color: #E8F0FE;\n",
              "      border: none;\n",
              "      border-radius: 50%;\n",
              "      cursor: pointer;\n",
              "      display: none;\n",
              "      fill: #1967D2;\n",
              "      height: 32px;\n",
              "      padding: 0 0 0 0;\n",
              "      width: 32px;\n",
              "    }\n",
              "\n",
              "    .colab-df-convert:hover {\n",
              "      background-color: #E2EBFA;\n",
              "      box-shadow: 0px 1px 2px rgba(60, 64, 67, 0.3), 0px 1px 3px 1px rgba(60, 64, 67, 0.15);\n",
              "      fill: #174EA6;\n",
              "    }\n",
              "\n",
              "    .colab-df-buttons div {\n",
              "      margin-bottom: 4px;\n",
              "    }\n",
              "\n",
              "    [theme=dark] .colab-df-convert {\n",
              "      background-color: #3B4455;\n",
              "      fill: #D2E3FC;\n",
              "    }\n",
              "\n",
              "    [theme=dark] .colab-df-convert:hover {\n",
              "      background-color: #434B5C;\n",
              "      box-shadow: 0px 1px 3px 1px rgba(0, 0, 0, 0.15);\n",
              "      filter: drop-shadow(0px 1px 2px rgba(0, 0, 0, 0.3));\n",
              "      fill: #FFFFFF;\n",
              "    }\n",
              "  </style>\n",
              "\n",
              "    <script>\n",
              "      const buttonEl =\n",
              "        document.querySelector('#df-2669b4c0-dd47-4487-a2a8-253d6aee3606 button.colab-df-convert');\n",
              "      buttonEl.style.display =\n",
              "        google.colab.kernel.accessAllowed ? 'block' : 'none';\n",
              "\n",
              "      async function convertToInteractive(key) {\n",
              "        const element = document.querySelector('#df-2669b4c0-dd47-4487-a2a8-253d6aee3606');\n",
              "        const dataTable =\n",
              "          await google.colab.kernel.invokeFunction('convertToInteractive',\n",
              "                                                    [key], {});\n",
              "        if (!dataTable) return;\n",
              "\n",
              "        const docLinkHtml = 'Like what you see? Visit the ' +\n",
              "          '<a target=\"_blank\" href=https://colab.research.google.com/notebooks/data_table.ipynb>data table notebook</a>'\n",
              "          + ' to learn more about interactive tables.';\n",
              "        element.innerHTML = '';\n",
              "        dataTable['output_type'] = 'display_data';\n",
              "        await google.colab.output.renderOutput(dataTable, element);\n",
              "        const docLink = document.createElement('div');\n",
              "        docLink.innerHTML = docLinkHtml;\n",
              "        element.appendChild(docLink);\n",
              "      }\n",
              "    </script>\n",
              "  </div>\n",
              "\n",
              "\n",
              "<div id=\"df-5fedfe58-9913-4f27-a598-595e4493579b\">\n",
              "  <button class=\"colab-df-quickchart\" onclick=\"quickchart('df-5fedfe58-9913-4f27-a598-595e4493579b')\"\n",
              "            title=\"Suggest charts\"\n",
              "            style=\"display:none;\">\n",
              "\n",
              "<svg xmlns=\"http://www.w3.org/2000/svg\" height=\"24px\"viewBox=\"0 0 24 24\"\n",
              "     width=\"24px\">\n",
              "    <g>\n",
              "        <path d=\"M19 3H5c-1.1 0-2 .9-2 2v14c0 1.1.9 2 2 2h14c1.1 0 2-.9 2-2V5c0-1.1-.9-2-2-2zM9 17H7v-7h2v7zm4 0h-2V7h2v10zm4 0h-2v-4h2v4z\"/>\n",
              "    </g>\n",
              "</svg>\n",
              "  </button>\n",
              "\n",
              "<style>\n",
              "  .colab-df-quickchart {\n",
              "      --bg-color: #E8F0FE;\n",
              "      --fill-color: #1967D2;\n",
              "      --hover-bg-color: #E2EBFA;\n",
              "      --hover-fill-color: #174EA6;\n",
              "      --disabled-fill-color: #AAA;\n",
              "      --disabled-bg-color: #DDD;\n",
              "  }\n",
              "\n",
              "  [theme=dark] .colab-df-quickchart {\n",
              "      --bg-color: #3B4455;\n",
              "      --fill-color: #D2E3FC;\n",
              "      --hover-bg-color: #434B5C;\n",
              "      --hover-fill-color: #FFFFFF;\n",
              "      --disabled-bg-color: #3B4455;\n",
              "      --disabled-fill-color: #666;\n",
              "  }\n",
              "\n",
              "  .colab-df-quickchart {\n",
              "    background-color: var(--bg-color);\n",
              "    border: none;\n",
              "    border-radius: 50%;\n",
              "    cursor: pointer;\n",
              "    display: none;\n",
              "    fill: var(--fill-color);\n",
              "    height: 32px;\n",
              "    padding: 0;\n",
              "    width: 32px;\n",
              "  }\n",
              "\n",
              "  .colab-df-quickchart:hover {\n",
              "    background-color: var(--hover-bg-color);\n",
              "    box-shadow: 0 1px 2px rgba(60, 64, 67, 0.3), 0 1px 3px 1px rgba(60, 64, 67, 0.15);\n",
              "    fill: var(--button-hover-fill-color);\n",
              "  }\n",
              "\n",
              "  .colab-df-quickchart-complete:disabled,\n",
              "  .colab-df-quickchart-complete:disabled:hover {\n",
              "    background-color: var(--disabled-bg-color);\n",
              "    fill: var(--disabled-fill-color);\n",
              "    box-shadow: none;\n",
              "  }\n",
              "\n",
              "  .colab-df-spinner {\n",
              "    border: 2px solid var(--fill-color);\n",
              "    border-color: transparent;\n",
              "    border-bottom-color: var(--fill-color);\n",
              "    animation:\n",
              "      spin 1s steps(1) infinite;\n",
              "  }\n",
              "\n",
              "  @keyframes spin {\n",
              "    0% {\n",
              "      border-color: transparent;\n",
              "      border-bottom-color: var(--fill-color);\n",
              "      border-left-color: var(--fill-color);\n",
              "    }\n",
              "    20% {\n",
              "      border-color: transparent;\n",
              "      border-left-color: var(--fill-color);\n",
              "      border-top-color: var(--fill-color);\n",
              "    }\n",
              "    30% {\n",
              "      border-color: transparent;\n",
              "      border-left-color: var(--fill-color);\n",
              "      border-top-color: var(--fill-color);\n",
              "      border-right-color: var(--fill-color);\n",
              "    }\n",
              "    40% {\n",
              "      border-color: transparent;\n",
              "      border-right-color: var(--fill-color);\n",
              "      border-top-color: var(--fill-color);\n",
              "    }\n",
              "    60% {\n",
              "      border-color: transparent;\n",
              "      border-right-color: var(--fill-color);\n",
              "    }\n",
              "    80% {\n",
              "      border-color: transparent;\n",
              "      border-right-color: var(--fill-color);\n",
              "      border-bottom-color: var(--fill-color);\n",
              "    }\n",
              "    90% {\n",
              "      border-color: transparent;\n",
              "      border-bottom-color: var(--fill-color);\n",
              "    }\n",
              "  }\n",
              "</style>\n",
              "\n",
              "  <script>\n",
              "    async function quickchart(key) {\n",
              "      const quickchartButtonEl =\n",
              "        document.querySelector('#' + key + ' button');\n",
              "      quickchartButtonEl.disabled = true;  // To prevent multiple clicks.\n",
              "      quickchartButtonEl.classList.add('colab-df-spinner');\n",
              "      try {\n",
              "        const charts = await google.colab.kernel.invokeFunction(\n",
              "            'suggestCharts', [key], {});\n",
              "      } catch (error) {\n",
              "        console.error('Error during call to suggestCharts:', error);\n",
              "      }\n",
              "      quickchartButtonEl.classList.remove('colab-df-spinner');\n",
              "      quickchartButtonEl.classList.add('colab-df-quickchart-complete');\n",
              "    }\n",
              "    (() => {\n",
              "      let quickchartButtonEl =\n",
              "        document.querySelector('#df-5fedfe58-9913-4f27-a598-595e4493579b button');\n",
              "      quickchartButtonEl.style.display =\n",
              "        google.colab.kernel.accessAllowed ? 'block' : 'none';\n",
              "    })();\n",
              "  </script>\n",
              "</div>\n",
              "\n",
              "    </div>\n",
              "  </div>\n"
            ],
            "application/vnd.google.colaboratory.intrinsic+json": {
              "type": "dataframe",
              "summary": "{\n  \"name\": \"df\",\n  \"rows\": 3,\n  \"fields\": [\n    {\n      \"column\": \"total_bill\",\n      \"properties\": {\n        \"dtype\": \"number\",\n        \"std\": 41.92314550467773,\n        \"min\": 5.065983437900561,\n        \"max\": 79.25293861397829,\n        \"num_unique_values\": 3,\n        \"samples\": [\n          79.25293861397829,\n          8.323501629224854,\n          5.065983437900561\n        ],\n        \"semantic_type\": \"\",\n        \"description\": \"\"\n      }\n    },\n    {\n      \"column\": \"tip\",\n      \"properties\": {\n        \"dtype\": \"number\",\n        \"std\": 4.116356773536808,\n        \"min\": 0.6439064291978684,\n        \"max\": 8.323501629224854,\n        \"num_unique_values\": 3,\n        \"samples\": [\n          8.323501629224854,\n          1.914454638062473,\n          0.6439064291978684\n        ],\n        \"semantic_type\": \"\",\n        \"description\": \"\"\n      }\n    },\n    {\n      \"column\": \"size\",\n      \"properties\": {\n        \"dtype\": \"number\",\n        \"std\": 2.4812600897532766,\n        \"min\": 0.6439064291978684,\n        \"max\": 5.065983437900561,\n        \"num_unique_values\": 3,\n        \"samples\": [\n          5.065983437900561,\n          0.6439064291978684,\n          0.9045908385616921\n        ],\n        \"semantic_type\": \"\",\n        \"description\": \"\"\n      }\n    }\n  ]\n}"
            }
          },
          "metadata": {},
          "execution_count": 38
        }
      ]
    },
    {
      "cell_type": "code",
      "source": [
        "  #(iv) Implement a Python program that calculates the Pearson correlation coefficient between two columns.\n",
        "\n",
        "\n",
        "import seaborn as sns\n",
        "import pandas as pd\n",
        "\n",
        "# Load the 'tips' dataset\n",
        "df = sns.load_dataset('tips')\n",
        "\n",
        "# Encode categorical columns into numerical values\n",
        "df['sex'] = df['sex'].astype('category').cat.codes\n",
        "df['smoker'] = df['smoker'].astype('category').cat.codes\n",
        "\n",
        "# Calculate Pearson correlation coefficient\n",
        "corr_coefficient = df['sex'].corr(df['smoker'])\n",
        "\n",
        "print(\"Pearson correlation coefficient between 'sex' and 'smoker':\", corr_coefficient)"
      ],
      "metadata": {
        "colab": {
          "base_uri": "https://localhost:8080/"
        },
        "id": "akeVfwJmjWcJ",
        "outputId": "47ae2fcc-f0c1-4fec-ce19-85dd3e9b138d"
      },
      "execution_count": null,
      "outputs": [
        {
          "output_type": "stream",
          "name": "stdout",
          "text": [
            "Pearson correlation coefficient between 'sex' and 'smoker': 0.002815951733696197\n"
          ]
        }
      ]
    },
    {
      "cell_type": "code",
      "source": [
        "#(v) Write a script to visualize the correlation between two specific columns in a Pandas DataFrame using scatter plots.\n",
        "\n",
        "\n",
        "import seaborn as sns\n",
        "import matplotlib.pyplot as plt\n",
        "\n",
        "# Load the 'tips' dataset\n",
        "df = sns.load_dataset('tips')\n",
        "\n",
        "# Scatter plot\n",
        "plt.scatter(df['total_bill'], df['tip'])\n",
        "plt.xlabel('Total Bill')\n",
        "plt.ylabel('Tip')\n",
        "plt.title('Scatter Plot of Total Bill vs Tip')\n",
        "plt.show()"
      ],
      "metadata": {
        "colab": {
          "base_uri": "https://localhost:8080/",
          "height": 472
        },
        "id": "SOijCCTBjWZv",
        "outputId": "b698702e-3414-4846-fec3-1df36708c99d"
      },
      "execution_count": null,
      "outputs": [
        {
          "output_type": "display_data",
          "data": {
            "text/plain": [
              "<Figure size 640x480 with 1 Axes>"
            ],
            "image/png": "[encoded data removed]"
          },
          "metadata": {}
        }
      ]
    },
    {
      "cell_type": "code",
      "source": [
        "#Q-8 Write a Python function to calculate the probability density function (PDF) of a continuous random variable for a given normal distribution.\n",
        "import numpy as np\n",
        "import matplotlib.pyplot as plt\n",
        "from scipy.stats import norm\n",
        "\n",
        "def calculate_normal_pdf(x, mean, std_dev):\n",
        "    \"\"\"\n",
        "    Calculate the probability density function (PDF) of a normal distribution at point x.\n",
        "\n",
        "    Parameters:\n",
        "    x (float or numpy array): The point(s) at which to calculate the PDF.\n",
        "    mean (float): The mean of the normal distribution.\n",
        "    std_dev (float): The standard deviation of the normal distribution.\n",
        "\n",
        "    Returns:\n",
        "    float or numpy array: The PDF value(s) at point x.\n",
        "    \"\"\"\n",
        "    return norm.pdf(x, loc=mean, scale=std_dev)\n",
        "\n",
        "# Example usage\n",
        "mean = 0\n",
        "std_dev = 1\n",
        "x_values = np.linspace(-5, 5, 1000)  # Generate x values\n",
        "pdf_values = calculate_normal_pdf(x_values, mean, std_dev)  # Calculate PDF values\n",
        "\n",
        "# Plot the PDF\n",
        "plt.figure(figsize=(10, 6))\n",
        "plt.plot(x_values, pdf_values, label=' probability density function (PDF)')\n",
        "plt.xlabel('x')\n",
        "plt.ylabel('probability density function (PDF)(x)')\n",
        "plt.title('Normal Distribution PDF')\n",
        "plt.legend()\n",
        "plt.grid(True)\n",
        "plt.show()\n"
      ],
      "metadata": {
        "id": "Ve2PwvnfF57v",
        "colab": {
          "base_uri": "https://localhost:8080/",
          "height": 564
        },
        "outputId": "11610925-fef0-4817-f9f9-912b2bda44e6"
      },
      "execution_count": null,
      "outputs": [
        {
          "output_type": "display_data",
          "data": {
            "text/plain": [
              "<Figure size 1000x600 with 1 Axes>"
            ],
            "image/png": "[encoded data removed]"
          },
          "metadata": {}
        }
      ]
    },
    {
      "cell_type": "code",
      "source": [],
      "metadata": {
        "id": "RZQnZ6C0GKm4"
      },
      "execution_count": null,
      "outputs": []
    },
    {
      "cell_type": "code",
      "source": [
        "#Q-9 Create a program to calculate the cumulative distribution function (CDF) of exponential distribution.\n",
        "\n",
        "\n",
        "import numpy as np\n",
        "import matplotlib.pyplot as plt\n",
        "\n",
        "def exponential_cdf(x, lambd):\n",
        "    \"\"\"\n",
        "    Calculate the cumulative distribution function (CDF) of an exponential distribution at point x.\n",
        "\n",
        "    Parameters:\n",
        "    x (float or numpy array): The point(s) at which to calculate the CDF.\n",
        "    lambd (float): The rate parameter of the exponential distribution.\n",
        "\n",
        "    Returns:\n",
        "    float or numpy array: The CDF value(s) at point x.\n",
        "    \"\"\"\n",
        "    return 1 - np.exp(-lambd * x)\n",
        "\n",
        "# Example usage\n",
        "lambd = 0.5\n",
        "x_values = np.linspace(0, 5, 1000)  # Generate x values\n",
        "cdf_values = exponential_cdf(x_values, lambd)  # Calculate CDF values\n",
        "\n",
        "# Plot the CDF\n",
        "plt.figure(figsize=(10, 6))\n",
        "plt.plot(x_values, cdf_values, label='CDF')\n",
        "plt.xlabel('x')\n",
        "plt.ylabel('CDF(x)')\n",
        "plt.title('Exponential Distribution CDF')\n",
        "plt.legend()\n",
        "plt.grid(True)\n",
        "plt.show()"
      ],
      "metadata": {
        "id": "XwvTm-rlGKaT",
        "colab": {
          "base_uri": "https://localhost:8080/",
          "height": 564
        },
        "outputId": "94b061f8-862b-4155-d8bd-8a9b9757c8c7"
      },
      "execution_count": null,
      "outputs": [
        {
          "output_type": "display_data",
          "data": {
            "text/plain": [
              "<Figure size 1000x600 with 1 Axes>"
            ],
            "image/png": "[encoded data removed]"
          },
          "metadata": {}
        }
      ]
    },
    {
      "cell_type": "code",
      "source": [],
      "metadata": {
        "id": "2GY2zYhpGx04"
      },
      "execution_count": null,
      "outputs": []
    },
    {
      "cell_type": "code",
      "source": [
        "#Q-10 Write a Python function to calculate the probability mass function (PMF) of Poisson distribution.\n",
        "\n",
        "\n",
        "\n",
        "import numpy as np\n",
        "import math\n",
        "\n",
        "def poisson_pmf(k, lambd):\n",
        "    \"\"\"\n",
        "    Calculate the probability mass function (PMF) of a Poisson distribution at point k.\n",
        "\n",
        "    Parameters:\n",
        "    k (int or numpy array): The point(s) at which to calculate the PMF.\n",
        "    lambd (float): The rate parameter of the Poisson distribution.\n",
        "\n",
        "    Returns:\n",
        "    float or numpy array: The PMF value(s) at point k.\n",
        "    \"\"\"\n",
        "    return np.exp(-lambd) * np.power(lambd, k) / np.array([math.factorial(int(x)) for x in k])\n",
        "\n",
        "# Example usage\n",
        "lambd = 2.5\n",
        "k_values = np.arange(0, 11)  # Generate k values from 0 to 10\n",
        "pmf_values = poisson_pmf(k_values, lambd)  # Calculate PMF values\n",
        "\n",
        "# Print PMF values\n",
        "for k, pmf in zip(k_values, pmf_values):\n",
        "    print(f\"PMF at k={k}: {pmf}\")"
      ],
      "metadata": {
        "id": "1-V8l--GGyXo",
        "colab": {
          "base_uri": "https://localhost:8080/"
        },
        "outputId": "fd158161-89ea-4367-b057-f20d831ee9cf"
      },
      "execution_count": null,
      "outputs": [
        {
          "output_type": "stream",
          "name": "stdout",
          "text": [
            "PMF at k=0: 0.0820849986238988\n",
            "PMF at k=1: 0.205212496559747\n",
            "PMF at k=2: 0.25651562069968376\n",
            "PMF at k=3: 0.21376301724973645\n",
            "PMF at k=4: 0.13360188578108528\n",
            "PMF at k=5: 0.06680094289054264\n",
            "PMF at k=6: 0.02783372620439277\n",
            "PMF at k=7: 0.009940616501568847\n",
            "PMF at k=8: 0.0031064426567402642\n",
            "PMF at k=9: 0.0008629007379834068\n",
            "PMF at k=10: 0.0002157251844958517\n"
          ]
        }
      ]
    },
    {
      "cell_type": "code",
      "source": [],
      "metadata": {
        "id": "JdqEdenrG-r9"
      },
      "execution_count": null,
      "outputs": []
    },
    {
      "cell_type": "code",
      "source": [
        "#Q-11 A company wants to test if a new website layout leads to a higher conversion rate (percentage of visitors who make a purchase).\n",
        "# They collect data from the old and new layouts to compare.\n",
        "\n",
        "#To generate the data use the following command:\n",
        "\n",
        "#```python\n",
        "\n",
        "#import numpy as np\n",
        "\n",
        "# 50 purchases out of 1000 visitors\n",
        "\n",
        "#old_layout = np.array([1] * 50 + [0] * 950)\n",
        "\n",
        "# 70 purchases out of 1000 visitors\n",
        "\n",
        "#new_layout = np.array([1] * 70 + [0] * 930)\n",
        "\n",
        " # ```\n",
        "\n",
        "#Apply z-test to find which layout is successful."
      ],
      "metadata": {
        "id": "mb0P-YvKG_IE"
      },
      "execution_count": null,
      "outputs": []
    },
    {
      "cell_type": "code",
      "source": [
        "\n",
        "import numpy as np\n",
        "from scipy import stats\n",
        "\n",
        "# Data\n",
        "old_layout = np.array([1] * 50 + [0] * 950)\n",
        "new_layout = np.array([1] * 70 + [0] * 930)\n",
        "\n",
        "# Calculate conversion rates\n",
        "conversion_rate_old = np.mean(old_layout)\n",
        "conversion_rate_new = np.mean(new_layout)\n",
        "\n",
        "# Calculate standard error\n",
        "standard_error = np.sqrt((conversion_rate_old * (1 - conversion_rate_old) / len(old_layout)) +\n",
        "             (conversion_rate_new * (1 - conversion_rate_new) / len(new_layout)))\n",
        "\n",
        "# Calculate z-score\n",
        "z_score = (conversion_rate_new - conversion_rate_old) / standard_error\n",
        "\n",
        "# Critical z-value for 95% confidence level\n",
        "critical_z = stats.norm.ppf(0.975)\n",
        "\n",
        "# Compare z-score with critical z-value\n",
        "if z_score > critical_z:\n",
        "    print(\"Reject null hypothesis. The new layout leads to a higher conversion rate.\")\n",
        "else:\n",
        "    print(\"Fail to reject null hypothesis. There is no significant difference in conversion rates.\")"
      ],
      "metadata": {
        "id": "YW_cL1daHfJZ",
        "colab": {
          "base_uri": "https://localhost:8080/"
        },
        "outputId": "2a1a85eb-29ec-45da-ec41-0a3ae4921a4f"
      },
      "execution_count": null,
      "outputs": [
        {
          "output_type": "stream",
          "name": "stdout",
          "text": [
            "Fail to reject null hypothesis. There is no significant difference in conversion rates.\n"
          ]
        }
      ]
    },
    {
      "cell_type": "code",
      "source": [
        "#Q-12 A tutoring service claims that its program improves students' exam scores. A sample of students who\n",
        "#participated in the program was taken, and their scores before and after the program were recorded.\n",
        "\n",
        "\n",
        "#Use the below code to generate samples of respective arrays of marks:\n",
        "\n",
        "#```python\n",
        "\n",
        "#before_program = np.array([75, 80, 85, 70, 90, 78, 92, 88, 82, 87])\n",
        "\n",
        "#after_program = np.array([80, 85, 90, 80, 92, 80, 95, 90, 85, 88])\n",
        "\n",
        "#```\n",
        "\n",
        "#Use z-test to find if the claims made by tutor are true or false"
      ],
      "metadata": {
        "id": "N4v6wgqvHe4U"
      },
      "execution_count": null,
      "outputs": []
    },
    {
      "cell_type": "code",
      "source": [
        "#t test since the sample size is less than 30\n",
        "#the t-test is used when the sample size is small (n < 30) or when the population standard deviation is unknown and is estimated from the sample.\n",
        "# the t-test uses the sample standard deviation.\n",
        "\n",
        "import numpy as np\n",
        "from scipy import stats\n",
        "\n",
        "# Data\n",
        "before_program = np.array([75, 80, 85, 70, 90, 78, 92, 88, 82, 87])\n",
        "after_program = np.array([80, 85, 90, 80, 92, 80, 95, 90, 85, 88])\n",
        "\n",
        "# Perform paired-sample t-test\n",
        "t_stat, p_value = stats.ttest_rel(after_program, before_program)\n",
        "\n",
        "# Define significance level\n",
        "alpha = 0.05\n",
        "\n",
        "# Compare p-value to significance level\n",
        "if p_value < alpha:\n",
        "    print(\"Reject null hypothesis. The tutoring program has a significant effect on exam scores.\")\n",
        "else:\n",
        "    print(\"Fail to reject null hypothesis. There is no significant effect of the tutoring program on exam scores.\")\n"
      ],
      "metadata": {
        "id": "QD4JY1L7HoVp",
        "colab": {
          "base_uri": "https://localhost:8080/"
        },
        "outputId": "a725983c-c136-44fe-9a8d-620861e0c76a"
      },
      "execution_count": null,
      "outputs": [
        {
          "output_type": "stream",
          "name": "stdout",
          "text": [
            "Reject null hypothesis. The tutoring program has a significant effect on exam scores.\n"
          ]
        }
      ]
    },
    {
      "cell_type": "code",
      "source": [
        "#The z-test is appropriate when the sample size is large (typically n > 30) and the population standard deviation is known.\n",
        "#The z-test uses the population standard deviation\n",
        "\n",
        "import numpy as np\n",
        "from statsmodels.stats import weightstats as stests\n",
        "\n",
        "# Data\n",
        "before_program = np.array([75, 80, 85, 70, 90, 78, 92, 88, 82, 87])\n",
        "after_program = np.array([80, 85, 90, 80, 92, 80, 95, 90, 85, 88])\n",
        "\n",
        "# Perform z-test\n",
        "z_stat, p_value = stests.ztest(x1=after_program, x2=before_program, alternative='larger')\n",
        "\n",
        "# Define significance level\n",
        "alpha = 0.05\n",
        "\n",
        "# Compare p-value to significance level\n",
        "if p_value < alpha:\n",
        "    print(\"Reject null hypothesis. The tutoring program has a significant effect on exam scores.\")\n",
        "else:\n",
        "    print(\"Fail to reject null hypothesis. There is no significant effect of the tutoring program on exam scores.\")\n",
        "\n"
      ],
      "metadata": {
        "colab": {
          "base_uri": "https://localhost:8080/"
        },
        "id": "RuVuqiOYGiKL",
        "outputId": "b61f30bf-d3b7-492e-adfb-2e88cdee181a"
      },
      "execution_count": null,
      "outputs": [
        {
          "output_type": "stream",
          "name": "stdout",
          "text": [
            "Fail to reject null hypothesis. There is no significant effect of the tutoring program on exam scores.\n"
          ]
        }
      ]
    },
    {
      "cell_type": "code",
      "source": [
        "import numpy as np\n",
        "from scipy import stats\n",
        "\n",
        "# Sample data\n",
        "before_program = np.array([75, 80, 85, 70, 90, 78, 92, 88, 82, 87])\n",
        "after_program = np.array([80, 85, 90, 80, 92, 80, 95, 90, 85, 88])\n",
        "\n",
        "# Calculate the mean difference\n",
        "mean_diff = np.mean(after_program - before_program)\n",
        "\n",
        "# Calculate the standard deviation of the differences\n",
        "std_dev = np.std(after_program - before_program, ddof=1)\n",
        "\n",
        "# Calculate the standard error of the mean difference\n",
        "std_error = std_dev / np.sqrt(len(before_program))\n",
        "\n",
        "# Calculate the z-score\n",
        "z_score = mean_diff / std_error\n",
        "\n",
        "# Define significance level\n",
        "alpha = 0.05\n",
        "\n",
        "# Calculate the critical z-value for a two-tailed test\n",
        "critical_z = stats.norm.ppf(1 - alpha/2)\n",
        "\n",
        "# Print results\n",
        "if np.abs(z_score) > critical_z:\n",
        "    print(\"The tutoring program improves students' exam scores (reject null hypothesis)\")\n",
        "else:\n",
        "    print(\"There is no significant improvement in students' exam scores (fail to reject null hypothesis)\")"
      ],
      "metadata": {
        "colab": {
          "base_uri": "https://localhost:8080/"
        },
        "id": "65NM78azKnVl",
        "outputId": "4d76855d-f3f2-4df0-9dbd-e9099f3b3c2d"
      },
      "execution_count": null,
      "outputs": [
        {
          "output_type": "stream",
          "name": "stdout",
          "text": [
            "The tutoring program improves students' exam scores (reject null hypothesis)\n"
          ]
        }
      ]
    },
    {
      "cell_type": "code",
      "source": [
        "#Q-13 A pharmaceutical company wants to determine if a new drug is effective in reducing blood pressure.\n",
        "#They conduct a study and record blood pressure measurements before and after administering the drug.\n",
        "\n",
        "\n",
        "#Use the below code to generate samples of respective arrays of blood pressure:\n",
        "\n",
        "\n",
        "#```python\n",
        "\n",
        "#before_drug = np.array([145, 150, 140, 135, 155, 160, 152, 148, 130, 138])\n",
        "\n",
        "#after_drug = np.array([130, 140, 132, 128, 145, 148, 138, 136, 125, 130])\n",
        "\n",
        "#  ```\n",
        "\n",
        "\n",
        "#Implement z-test to find if the drug really works or not"
      ],
      "metadata": {
        "id": "Pc5tx9QcHozX"
      },
      "execution_count": null,
      "outputs": []
    },
    {
      "cell_type": "code",
      "source": [
        "import numpy as np\n",
        "from scipy import stats\n",
        "\n",
        "# Sample data\n",
        "before_drug = np.array([145, 150, 140, 135, 155, 160, 152, 148, 130, 138])\n",
        "after_drug = np.array([130, 140, 132, 128, 145, 148, 138, 136, 125, 130])\n",
        "\n",
        "# Population standard deviation (assumed to be known for this example)\n",
        "pop_std = 15  # Assuming a standard deviation of 15\n",
        "\n",
        "# Calculate the mean difference\n",
        "mean_diff = np.mean(before_drug) - np.mean(after_drug)\n",
        "\n",
        "# Calculate the standard error of the mean difference\n",
        "std_error = pop_std / np.sqrt(len(before_drug))\n",
        "\n",
        "# Calculate the z-\n",
        "z_score = mean_diff / std_error\n",
        "\n",
        "# Define significance level\n",
        "alpha = 0.05\n",
        "\n",
        "# Calculate the critical z-value for a two-tailed test\n",
        "critical_z = stats.norm.ppf(1 - alpha/2)\n",
        "\n",
        "# Print results\n",
        "if np.abs(z_score) > critical_z:\n",
        "    print(\"The drug is effective in reducing blood pressure (reject null hypothesis)\")\n",
        "else:\n",
        "  print(\"There is no significant difference in blood pressure before and after the drug (fail to reject null hypothesis)\")\n"
      ],
      "metadata": {
        "id": "d_tYbOaKH1wk",
        "colab": {
          "base_uri": "https://localhost:8080/"
        },
        "outputId": "4e420979-1b9e-464f-fef2-de70e958b76e"
      },
      "execution_count": null,
      "outputs": [
        {
          "output_type": "stream",
          "name": "stdout",
          "text": [
            "The drug is effective in reducing blood pressure (reject null hypothesis)\n"
          ]
        }
      ]
    },
    {
      "cell_type": "code",
      "source": [
        "#Q-14  A customer service department claims that their average response time is less than 5 minutes.\n",
        "#A sample of recent customer interactions was taken, and the response times were recorded.\n",
        "\n",
        "\n",
        "#Implement the below code to generate the array of response time:\n",
        "\n",
        "#```python\n",
        "\n",
        "#response_times = 3d.array([4.3, 3.8, 5.1, 4.9, 4.7, 4.2, 5.2, 4.5, 4.6, 4.4])\n",
        "\n",
        "#```\n",
        "\n",
        "#Implement z-test to find the claims made by customer service department are tru or false."
      ],
      "metadata": {
        "id": "-Q4Dd9aPH1s8"
      },
      "execution_count": null,
      "outputs": []
    },
    {
      "cell_type": "code",
      "source": [
        "import numpy as np\n",
        "from scipy.stats import norm\n",
        "\n",
        "# Step 1: Given data\n",
        "response_times = np.array([4.3, 3.8, 5.1, 4.9, 4.7, 4.2, 5.2, 4.5, 4.6, 4.4])\n",
        "sample_mean = np.mean(response_times)\n",
        "sample_std = np.std(response_times, ddof=1)  # Using Bessel's correction for sample standard deviation\n",
        "\n",
        "# Step 2: Set up hypotheses\n",
        "# Null hypothesis (H0): The true average response time is 5 minutes or more.\n",
        "# Alternative hypothesis (H1): The true average response time is less than 5 minutes.\n",
        "\n",
        "# Step 3: Calculate the z-score\n",
        "population_mean = 5  # Claimed average response time\n",
        "sample_size = len(response_times)\n",
        "z_score = (sample_mean - population_mean) / (sample_std / np.sqrt(sample_size))\n",
        "\n",
        "# Step 4: Determine the critical z-value\n",
        "alpha = 0.05  # Significance level\n",
        "critical_z_value = norm.ppf(alpha)\n",
        "\n",
        "# Step 5: Compare the z-score with the critical z-value\n",
        "if z_score < critical_z_value:\n",
        "    print(\"Reject null hypothesis: The claim made by the customer service department is FALSE.\")\n",
        "else:\n",
        "    print(\"Fail to reject null hypothesis: The claim made by the customer service department is TRUE.\")"
      ],
      "metadata": {
        "id": "VQpYFOtmIQ1Y",
        "colab": {
          "base_uri": "https://localhost:8080/"
        },
        "outputId": "11bfb591-994b-4a8c-bf55-c31e12d08717"
      },
      "execution_count": null,
      "outputs": [
        {
          "output_type": "stream",
          "name": "stdout",
          "text": [
            "Reject null hypothesis: The claim made by the customer service department is FALSE.\n"
          ]
        }
      ]
    },
    {
      "cell_type": "code",
      "source": [
        "#Q-15  A company is testing two different website layouts to see which one leads to higher click-through rates.\n",
        "#Write a Python function to perform an A/B test analysis, including calculating the t-statistic, degrees of freedom, and p-value.\n",
        "\n",
        "\n",
        "#Use the following data:\n",
        "\n",
        "#```python\n",
        "\n",
        "#layout_a_clicks = [28, 32, 33, 29, 31, 34, 30, 35, 36, 37]\n",
        "\n",
        "#layout_b_clicks = [40, 41, 38, 42, 39, 44, 43, 41, 45, 47]"
      ],
      "metadata": {
        "id": "ejSCqWIwIQdX"
      },
      "execution_count": null,
      "outputs": []
    },
    {
      "cell_type": "code",
      "source": [
        "#without def function\n",
        "\n",
        "from scipy import stats\n",
        "\n",
        "# Data\n",
        "layout_a_clicks = [28, 32, 33, 29, 31, 34, 30, 35, 36, 37]\n",
        "layout_b_clicks = [40, 41, 38, 42, 39, 44, 43, 41, 45, 47]\n",
        "\n",
        "# Calculate means\n",
        "mean_a = sum(layout_a_clicks) / len(layout_a_clicks)\n",
        "mean_b = sum(layout_b_clicks) / len(layout_b_clicks)\n",
        "\n",
        "# Perform independent t-test\n",
        "t_statistic, p_value = stats.ttest_ind(layout_a_clicks, layout_b_clicks)\n",
        "\n",
        "# Calculate degrees of freedom\n",
        "dof = len(layout_a_clicks) + len(layout_b_clicks) - 2\n",
        "\n",
        "# Print results\n",
        "print(\"Mean for layout A:\", mean_a)\n",
        "print(\"Mean for layout B:\", mean_b)\n",
        "print(\"t-statistic:\", t_statistic)\n",
        "print(\"p-value:\", p_value)\n",
        "print(\"Degrees of freedom:\", dof)\n",
        "\n",
        "# Compare means\n",
        "if mean_b > mean_a:\n",
        "    print(\"Layout B leads to higher click-through rates.\")\n",
        "elif mean_a > mean_b:\n",
        "    print(\"Layout A leads to higher click-through rates.\")\n",
        "else:\n",
        "    print(\"Both layouts have the same click-through rates.\")"
      ],
      "metadata": {
        "id": "wz5hg-vJIiX-",
        "colab": {
          "base_uri": "https://localhost:8080/"
        },
        "outputId": "ea77a1b6-9429-45f1-cffc-1a3f1fdd8794"
      },
      "execution_count": null,
      "outputs": [
        {
          "output_type": "stream",
          "name": "stdout",
          "text": [
            "Mean for layout A: 32.5\n",
            "Mean for layout B: 42.0\n",
            "t-statistic: -7.298102156175071\n",
            "p-value: 8.833437608301987e-07\n",
            "Degrees of freedom: 18\n",
            "Layout B leads to higher click-through rates.\n"
          ]
        }
      ]
    },
    {
      "cell_type": "code",
      "source": [
        "#with def function, if you want to access it again\n",
        "\n",
        "from scipy import stats\n",
        "\n",
        "def ab_test(layout_a_clicks, layout_b_clicks):\n",
        "    # Calculate means\n",
        "    mean_a = sum(layout_a_clicks) / len(layout_a_clicks)\n",
        "    mean_b = sum(layout_b_clicks) / len(layout_b_clicks)\n",
        "\n",
        "    # Perform independent t-test\n",
        "    t_statistic, p_value = stats.ttest_ind(layout_a_clicks, layout_b_clicks)\n",
        "\n",
        "    # Calculate degrees of freedom\n",
        "    dof = len(layout_a_clicks) + len(layout_b_clicks) - 2\n",
        "\n",
        "    return {\n",
        "        'mean_a': mean_a,\n",
        "        'mean_b': mean_b,\n",
        "        't_statistic': t_statistic,\n",
        "        'p_value': p_value,\n",
        "        'degrees_of_freedom': dof\n",
        "    }\n",
        "\n",
        "# Data\n",
        "layout_a_clicks = [28, 32, 33, 29, 31, 34, 30, 35, 36, 37]\n",
        "layout_b_clicks = [40, 41, 38, 42, 39, 44, 43, 41, 45, 47]\n",
        "\n",
        "# Perform A/B test analysis\n",
        "result = ab_test(layout_a_clicks, layout_b_clicks)\n",
        "\n",
        "# Print results\n",
        "print(\"Mean for layout A:\", result['mean_a'])\n",
        "print(\"Mean for layout B:\", result['mean_b'])\n",
        "print(\"t-statistic:\", result['t_statistic'])\n",
        "print(\"p-value:\", result['p_value'])\n",
        "print(\"Degrees of freedom:\", result['degrees_of_freedom'])\n",
        "\n",
        "\n",
        "\n",
        "# Compare mean click-through rates\n",
        "if result['mean_a'] > result['mean_b']:\n",
        "    print(\"Layout A has more clicks.\")\n",
        "elif result['mean_b'] > result['mean_a']:\n",
        "    print(\"Layout B has more clicks.\")\n",
        "else:\n",
        "    print(\"Both layouts have the same number of clicks.\")\n"
      ],
      "metadata": {
        "colab": {
          "base_uri": "https://localhost:8080/"
        },
        "id": "YVw4SCVpgVUc",
        "outputId": "2e2e0742-f2e9-49cf-e979-a17f1c003127"
      },
      "execution_count": null,
      "outputs": [
        {
          "output_type": "stream",
          "name": "stdout",
          "text": [
            "Mean for layout A: 32.5\n",
            "Mean for layout B: 42.0\n",
            "t-statistic: -7.298102156175071\n",
            "p-value: 8.833437608301987e-07\n",
            "Degrees of freedom: 18\n",
            "Layout B has more clicks.\n"
          ]
        }
      ]
    },
    {
      "cell_type": "code",
      "source": [
        "#Q-16  A pharmaceutical company wants to determine if a new drug is more effective than an existing drug in\n",
        "#reducing cholesterol levels. Create a program to analyze the clinical trial data\n",
        "#and calculate the t-statistic and p-value for the treatment effect.\n",
        "\n",
        "\n",
        "#Use the following data of cholestrol level:\n",
        "\n",
        "#```python\n",
        "\n",
        "#existi3g_drug_levels = [180, 182, 175, 185, 178, 176, 172, 184, 179, 183]\n",
        "\n",
        "#new_drug_levels = [170, 172, 165, 168, 175, 173, 170, 178, 172, 176]"
      ],
      "metadata": {
        "id": "0PkE58zSIiUW"
      },
      "execution_count": null,
      "outputs": []
    },
    {
      "cell_type": "code",
      "source": [
        "\n",
        "import numpy as np\n",
        "from scipy.stats import ttest_ind\n",
        "\n",
        "# Data\n",
        "existing_drug_levels = [180, 182, 175, 185, 178, 176, 172, 184, 179, 183]\n",
        "new_drug_levels = [170, 172, 165, 168, 175, 173, 170, 178, 172, 176]\n",
        "\n",
        "# Calculate t-statistic and p-value\n",
        "t_statistic, p_value = ttest_ind(existing_drug_levels, new_drug_levels)\n",
        "\n",
        "# Print results\n",
        "print(\"T-Statistic:\", t_statistic)\n",
        "print(\"P-Value:\", p_value)\n",
        "\n",
        "# Interpret results\n",
        "alpha = 0.05\n",
        "if p_value < alpha:\n",
        "    print(\"The new drug is significantly more effective than the existing drug in reducing cholesterol levels.\")\n",
        "else:\n",
        "    print(\"There is no significant difference between the two drugs in reducing cholesterol levels.\")"
      ],
      "metadata": {
        "id": "JZj1l77-IyK1",
        "colab": {
          "base_uri": "https://localhost:8080/"
        },
        "outputId": "cf9c961a-f926-4de7-ba80-efb9ca5b2845"
      },
      "execution_count": null,
      "outputs": [
        {
          "output_type": "stream",
          "name": "stdout",
          "text": [
            "T-Statistic: 4.14048098620866\n",
            "P-Value: 0.0006143398442372505\n",
            "The new drug is significantly more effective than the existing drug in reducing cholesterol levels.\n"
          ]
        }
      ]
    },
    {
      "cell_type": "code",
      "source": [
        "#Q-17  A school district introduces an educational intervention program to improve math scores.\n",
        "#Write a Python function to analyze pre- and post-intervention test scores,\n",
        "#calculating the t-statistic and p-value to determine if the intervention had a significant impact.\n",
        "\n",
        "\n",
        "#Use the followi3g data of test score:\n",
        "\n",
        "\n",
        " # ```python\n",
        "\n",
        "  #pre_intervention_scores = [80, 85, 90, 75, 88, 82, 92, 78, 85, 87]\n",
        "\n",
        "  #post_intervention_scores = [90, 92, 88, 92, 95, 91, 96, 93, 89, 93]\n",
        "\n",
        " #```"
      ],
      "metadata": {
        "id": "ScS9Ztg9Ix3n"
      },
      "execution_count": null,
      "outputs": []
    },
    {
      "cell_type": "code",
      "source": [
        "import numpy as np\n",
        "from scipy.stats import ttest_rel\n",
        "\n",
        "# Data\n",
        "pre_intervention_scores = [80, 85, 90, 75, 88, 82, 92, 78, 85, 87]\n",
        "post_intervention_scores = [90, 92, 88, 92, 95, 91, 96, 93, 89, 93]\n",
        "\n",
        "# Calculate the differences between pre- and post-intervention scores\n",
        "differences = np.array(post_intervention_scores) - np.array(pre_intervention_scores)\n",
        "\n",
        "# Calculate the t-statistic and p-value\n",
        "t_statistic, p_value = ttest_rel(post_intervention_scores, pre_intervention_scores)\n",
        "\n",
        "# Print results\n",
        "print(\"T-Statistic:\", t_statistic)\n",
        "print(\"P-Value:\", p_value)\n",
        "\n",
        "# Interpret results\n",
        "alpha = 0.05\n",
        "if p_value < alpha:\n",
        "    print(\"The intervention had a significant impact on math scores.\")\n",
        "else:\n",
        "    print(\"There is no significant impact of the intervention on math scores.\")"
      ],
      "metadata": {
        "id": "D7vqW1flJK46",
        "colab": {
          "base_uri": "https://localhost:8080/"
        },
        "outputId": "d133ddc6-b3f9-49da-a974-858c15f38ecc"
      },
      "execution_count": null,
      "outputs": [
        {
          "output_type": "stream",
          "name": "stdout",
          "text": [
            "T-Statistic: 4.42840883965761\n",
            "P-Value: 0.0016509548165795493\n",
            "The intervention had a significant impact on math scores.\n"
          ]
        }
      ]
    },
    {
      "cell_type": "code",
      "source": [
        "#Q-18 An HR department wants to investigate if there's a gender-based salary gap within the company.\n",
        "#Develop a program to analyze salary data, calculate the t-statistic, and determine if there's a statistically\n",
        "#significant difference between the average salaries of male and female employees.\n",
        "\n",
        "\n",
        "#Use the below code to generate synthetic data:\n",
        "#```python\n",
        "\n",
        "# Generate synthetic salary data for male and female employees\n",
        "\n",
        "#np.random.seed(0)  # For reproducibility\n",
        "\n",
        "#male_salaries = np.random.normal(loc=50000, scale=10000, size=20)\n",
        "\n",
        "#female_salaries = np.random.normal(loc=55000, scale=9000, size=20)\n",
        "\n",
        "#  ```\n",
        "\n"
      ],
      "metadata": {
        "id": "XNWtb14qJKy-"
      },
      "execution_count": null,
      "outputs": []
    },
    {
      "cell_type": "code",
      "source": [
        "import numpy as np\n",
        "from scipy.stats import ttest_ind\n",
        "\n",
        "# Generate synthetic salary data for male and female employees\n",
        "np.random.seed(0)  # For reproducibility\n",
        "male_salaries = np.random.normal(loc=50000, scale=10000, size=20)\n",
        "female_salaries = np.random.normal(loc=55000, scale=9000, size=20)\n",
        "\n",
        "# Calculate the t-statistic and p-value\n",
        "t_statistic, p_value = ttest_ind(male_salaries, female_salaries)\n",
        "\n",
        "# Print results\n",
        "print(\"T-Statistic:\", t_statistic)\n",
        "print(\"P-Value:\", p_value)\n",
        "\n",
        "# Interpret results\n",
        "alpha = 0.05\n",
        "if p_value < alpha:\n",
        "    print(\"Reject the null hypothesis : There is a statistically significant difference between the average salaries of male and female employees.\")\n",
        "else:\n",
        "    print(\" Failed to reject the null hypothesis : There is no statistically significant difference between the average salaries of male and female employees.\")\n"
      ],
      "metadata": {
        "id": "eKyRY1wEJhfi",
        "colab": {
          "base_uri": "https://localhost:8080/"
        },
        "outputId": "e477b854-79d0-4a4e-9a0c-28e973df4955"
      },
      "execution_count": null,
      "outputs": [
        {
          "output_type": "stream",
          "name": "stdout",
          "text": [
            "T-Statistic: 0.06114208969631383\n",
            "P-Value: 0.9515665020676465\n",
            " Failed to reject the null hypothesis : There is no statistically significant difference between the average salaries of male and female employees.\n"
          ]
        }
      ]
    },
    {
      "cell_type": "code",
      "source": [
        "#Q-19  A manufacturer produces two different versions of a product and wants to compare their quality scores.\n",
        "#Create a Python function to analyze quality assessment data, calculate the t-statistic, and decide\n",
        "#whether there's a significant difference in quality between the two versions.\n",
        "\n",
        "\n",
        "#Use the following data:\n",
        "#```python\n",
        "\n",
        "#version1_scores = [85, 88, 82, 89, 87, 84, 90, 88, 85, 86, 91, 83, 87, 84, 89, 86, 84, 88, 85, 86, 89, 90, 87, 88, 85]\n",
        "\n",
        "#version2_scores = [80, 78, 83, 81, 79, 82, 76, 80, 78, 81, 77, 82, 80, 79, 82, 79, 80, 81, 79, 82, 79, 78, 80, 81, 82]\n",
        "\n",
        "#```\n",
        "\n"
      ],
      "metadata": {
        "id": "eRpmUbyxJhb5"
      },
      "execution_count": null,
      "outputs": []
    },
    {
      "cell_type": "code",
      "source": [
        "import numpy as np\n",
        "from scipy.stats import ttest_ind\n",
        "\n",
        "\n",
        "version1_scores = [85, 88, 82, 89, 87, 84, 90, 88, 85, 86, 91, 83, 87, 84, 89, 86, 84, 88, 85, 86, 89, 90, 87, 88, 85]\n",
        "version2_scores = [80, 78, 83, 81, 79, 82, 76, 80, 78, 81, 77, 82, 80, 79, 82, 79, 80, 81, 79, 82, 79, 78, 80, 81, 82]\n",
        "\n",
        "# Calculate the t-statistic and p-value\n",
        "t_statistic, p_value = ttest_ind(version1_scores, version2_scores)\n",
        "\n",
        "# Print results\n",
        "print(\"T-Statistic:\", t_statistic)\n",
        "print(\"P-Value:\", p_value)\n",
        "\n",
        "# Interpret results\n",
        "alpha = 0.05\n",
        "if p_value < alpha:\n",
        "    print(\"There is a statistically significant difference between the two versions.\")\n",
        "else:\n",
        "    print(\"There is no statistically significant difference between the two versions.\")\n"
      ],
      "metadata": {
        "id": "C3kK-mdLJy_V",
        "colab": {
          "base_uri": "https://localhost:8080/"
        },
        "outputId": "45745742-8790-449f-d766-5c463642c20e"
      },
      "execution_count": null,
      "outputs": [
        {
          "output_type": "stream",
          "name": "stdout",
          "text": [
            "T-Statistic: 11.325830417646698\n",
            "P-Value: 3.6824250702873965e-15\n",
            "There is a statistically significant difference between the two versions.\n"
          ]
        }
      ]
    },
    {
      "cell_type": "code",
      "source": [
        "#with def function\n",
        "\n",
        "\n",
        "\n",
        "import numpy as np\n",
        "from scipy.stats import ttest_ind\n",
        "\n",
        "def compare_quality(version1_scores, version2_scores):\n",
        "    # Calculate the t-statistic and p-value\n",
        "    t_statistic, p_value = ttest_ind(version1_scores, version2_scores)\n",
        "\n",
        "    # Print results\n",
        "    print(\"T-Statistic:\", t_statistic)\n",
        "    print(\"P-Value:\", p_value)\n",
        "\n",
        "    # Interpret results\n",
        "    alpha = 0.05\n",
        "    if p_value < alpha:\n",
        "        print(\"There is a statistically significant difference in quality between the two versions.\")\n",
        "    else:\n",
        "        print(\"There is no statistically significant difference in quality between the two versions.\")\n",
        "\n",
        "# Data\n",
        "version1_scores = [85, 88, 82, 89, 87, 84, 90, 88, 85, 86, 91, 83, 87, 84, 89, 86, 84, 88, 85, 86, 89, 90, 87, 88, 85]\n",
        "version2_scores = [80, 78, 83, 81, 79, 82, 76, 80, 78, 81, 77, 82, 80, 79, 82, 79, 80, 81, 79, 82, 79, 78, 80, 81, 82]\n",
        "\n",
        "# Compare quality\n",
        "compare_quality(version1_scores, version2_scores)"
      ],
      "metadata": {
        "colab": {
          "base_uri": "https://localhost:8080/"
        },
        "id": "yic3vBdYugDj",
        "outputId": "223ae22c-88f4-4b99-b1a7-d8d8d15c370f"
      },
      "execution_count": null,
      "outputs": [
        {
          "output_type": "stream",
          "name": "stdout",
          "text": [
            "T-Statistic: 11.325830417646698\n",
            "P-Value: 3.6824250702873965e-15\n",
            "There is a statistically significant difference in quality between the two versions.\n"
          ]
        }
      ]
    },
    {
      "cell_type": "code",
      "source": [
        "#Q-20  A restaurant chain collects customer satisfaction scores for two different branches.\n",
        "#Write a program to analyze the scores, calculate the t-statistic, and determine if there's a statistically significant difference in\n",
        "#customer satisfaction between the branches.\n",
        "\n",
        "\n",
        "#Use the below data of scores:\n",
        "\n",
        "#  ```python\n",
        "\n",
        "#branch_a_scores = [4, 5, 3, 4, 5, 4, 5, 3, 4, 4, 5, 4, 4, 3, 4, 5, 5, 4, 3, 4, 5, 4, 3, 5, 4, 4, 5, 3, 4, 5, 4]\n",
        "\n",
        "#branch_b_scores = [3, 4, 2, 3, 4, 3, 4, 2, 3, 3, 4, 3, 3, 2, 3, 4, 4, 3, 2, 3, 4, 3, 2, 4, 3, 3, 4, 2, 3, 4, 3]"
      ],
      "metadata": {
        "id": "oeRPLzn1Jy68"
      },
      "execution_count": null,
      "outputs": []
    },
    {
      "cell_type": "code",
      "source": [
        "import numpy as np\n",
        "from scipy.stats import ttest_ind\n",
        "\n",
        "#Data\n",
        "branch_a_scores = [4, 5, 3, 4, 5, 4, 5, 3, 4, 4, 5, 4, 4, 3, 4, 5, 5, 4, 3, 4, 5, 4, 3, 5, 4, 4, 5, 3, 4, 5, 4]\n",
        "\n",
        "branch_b_scores = [3, 4, 2, 3, 4, 3, 4, 2, 3, 3, 4, 3, 3, 2, 3, 4, 4, 3, 2, 3, 4, 3, 2, 4, 3, 3, 4, 2, 3, 4, 3]\n",
        "\n",
        "t_statistic, p_value = ttest_ind(branch_b_scores, branch_a_scores)\n",
        "\n",
        "print(\"T-Statistic:\", t_statistic)\n",
        "print(\"P-Value:\", p_value)\n",
        "\n",
        "alpha = 0.05\n",
        "if p_value < alpha:\n",
        "    print(\" Reject the null hypothesis : There is a statistically significant difference in customer satisfaction between the branches.\")\n",
        "else:\n",
        "    print(\" Failed to reject the null hypothesis :There is no statistically significant difference in customer satisfaction between the branches.\")\n",
        "\n"
      ],
      "metadata": {
        "id": "bqdAkG12KINh",
        "colab": {
          "base_uri": "https://localhost:8080/"
        },
        "outputId": "d8de3ff7-9c8e-4cbe-b927-d636a6a8cd14"
      },
      "execution_count": null,
      "outputs": [
        {
          "output_type": "stream",
          "name": "stdout",
          "text": [
            "T-Statistic: -5.480077554195743\n",
            "P-Value: 8.895290509945655e-07\n",
            " Reject the null hypothesis : There is a statistically significant difference in customer satisfaction between the branches.\n"
          ]
        }
      ]
    },
    {
      "cell_type": "code",
      "source": [
        "#Q-21 A political analyst wants to determine if there is a significant association between age groups and voter\n",
        "#preferences (Candidate A or Candidate B). They collect data from a sample of 500 voters and classify\n",
        "#them into different age groups and candidate preferences. Perform a Chi-Square test to determine if\n",
        "#there is a significant association between age groups and voter preferences.\n",
        "\n",
        "\n",
        "#Use the below code to generate data:\n",
        "\n",
        "#```python\n",
        "\n",
        "#np.random.seed(0)\n",
        "\n",
        "#age_groups = np.random.choice([ 18 30 , 31 50 , 51+', 51+'], size=30)\n",
        "\n",
        "#voter_preferences = np.random.choice(['Candidate A', 'Candidate B'], size=30)"
      ],
      "metadata": {
        "id": "tpep5tp7KH8U"
      },
      "execution_count": null,
      "outputs": []
    },
    {
      "cell_type": "code",
      "source": [
        "import numpy as np\n",
        "from scipy.stats import chi2_contingency\n",
        "\n",
        "np.random.seed(0)\n",
        "\n",
        "# Generate age groups (assuming equal distribution for demonstration)\n",
        "age_groups = np.random.choice(['18-30', '31-50', '51+'], size=500)\n",
        "age_groups_encoded = np.array([0, 1, 2])[np.searchsorted(['18-30', '31-50', '51+'], age_groups)]\n",
        "\n",
        "# Generate voter preferences\n",
        "voter_preferences = np.random.choice(['Candidate A', 'Candidate B'], size=500)\n",
        "voter_preferences_encoded = np.array([0, 1])[np.searchsorted(['Candidate A', 'Candidate B'], voter_preferences)]\n",
        "\n",
        "# Create a contingency table\n",
        "contingency_table = np.histogram2d(age_groups_encoded, voter_preferences_encoded, bins=(3, 2))[0]\n",
        "\n",
        "print(\"Contingency Table:\")\n",
        "print(contingency_table)\n",
        "\n",
        "# Perform Chi-Square test\n",
        "chi2_statistic, p_value, degrees_of_freedom, expected_frequencies = chi2_contingency(contingency_table)\n",
        "\n",
        "print(\"\\nChi-Square Statistic:\", chi2_statistic)\n",
        "print(\"P-value:\", p_value)\n",
        "\n",
        "alpha = 0.05\n",
        "\n",
        "if p_value < alpha:\n",
        "    print(\"\\nThere is a significant association between age groups and voter preferences.\")\n",
        "else:\n",
        "    print(\"\\nThere is no significant association between age groups and voter preferences.\")\n"
      ],
      "metadata": {
        "id": "Q2O5bxGTK6O-",
        "colab": {
          "base_uri": "https://localhost:8080/"
        },
        "outputId": "93a504eb-63bf-469e-c59a-cf7ef957a506"
      },
      "execution_count": null,
      "outputs": [
        {
          "output_type": "stream",
          "name": "stdout",
          "text": [
            "Contingency Table:\n",
            "[[95. 87.]\n",
            " [87. 82.]\n",
            " [84. 65.]]\n",
            "\n",
            "Chi-Square Statistic: 0.8779923945254768\n",
            "P-value: 0.6446832311860852\n",
            "\n",
            "There is no significant association between age groups and voter preferences.\n"
          ]
        }
      ]
    },
    {
      "cell_type": "code",
      "source": [
        "#Q-22  A company conducted a customer satisfaction survey to determine if there is a significant relationship\n",
        "#between product satisfaction levels (Satisfied, Neutral, Dissatisfied) and the region where customers are\n",
        "#located (East, West, North, South). The survey data is summarized in a contingency table. Conduct a ChiSquare test to determine if there is a significant relationship between product satisfaction levels and\n",
        "#customer regions.\n",
        "\n",
        "\n",
        "#Sample data:\n",
        "\n",
        "#```python\n",
        "\n",
        "#Sample data: Product satisfaction levels (rows) vs. Customer regions (columns)\n",
        "\n",
        "#data = np.array([[50, 30, 40, 20], [30, 40, 30, 50], [20, 30, 40, 30]])\n",
        "\n",
        "#```\n",
        "\n"
      ],
      "metadata": {
        "id": "tv9cHddUK5vu"
      },
      "execution_count": null,
      "outputs": []
    },
    {
      "cell_type": "code",
      "source": [
        "import numpy as np\n",
        "from scipy.stats import chi2_contingency\n",
        "\n",
        "# Sample data: Product satisfaction levels (rows) vs. Customer regions (columns)\n",
        "data = np.array([[50, 30, 40, 20], [30, 40, 30, 50], [20, 30, 40, 30]])\n",
        "\n",
        "print(\"Contingency Table:\")\n",
        "print(data)\n",
        "\n",
        "# Perform Chi-Square test\n",
        "chi2, p, dof, expected = chi2_contingency(data)\n",
        "\n",
        "print(\"\\nChi-Square Statistic:\", chi2)\n",
        "print(\"P-value:\", p)\n",
        "print(\"Degrees of Freedom:\", dof)\n",
        "print(\"Expected Frequencies:\")\n",
        "print(expected)\n",
        "\n",
        "alpha = 0.05\n",
        "\n",
        "if p < alpha:\n",
        "    print(\"\\nThere is a significant relationship between product satisfaction levels and customer regions.\")\n",
        "else:\n",
        "    print(\"\\nThere is no significant relationship between product satisfaction levels and customer regions.\")"
      ],
      "metadata": {
        "id": "q7rUrZdWLIZv",
        "colab": {
          "base_uri": "https://localhost:8080/"
        },
        "outputId": "29c0ea2f-00fe-4d80-ab8d-3dba84b9fd9a"
      },
      "execution_count": null,
      "outputs": [
        {
          "output_type": "stream",
          "name": "stdout",
          "text": [
            "Contingency Table:\n",
            "[[50 30 40 20]\n",
            " [30 40 30 50]\n",
            " [20 30 40 30]]\n",
            "\n",
            "Chi-Square Statistic: 27.777056277056275\n",
            "P-value: 0.00010349448486004387\n",
            "Degrees of Freedom: 6\n",
            "Expected Frequencies:\n",
            "[[34.14634146 34.14634146 37.56097561 34.14634146]\n",
            " [36.58536585 36.58536585 40.24390244 36.58536585]\n",
            " [29.26829268 29.26829268 32.19512195 29.26829268]]\n",
            "\n",
            "There is a significant relationship between product satisfaction levels and customer regions.\n"
          ]
        }
      ]
    },
    {
      "cell_type": "code",
      "source": [
        "#Q-23 A company implemented an employee training program to improve job performance (Effective, Neutral, Ineffective).\n",
        "#After the training, they collected data from a sample of employees and classified them based\n",
        "#on their job performance before and after the training. Perform a Chi-Square test to determine if there is a\n",
        "#significant difference between job performance levels before and after the training.\n",
        "\n",
        "\n",
        "#Sample data:\n",
        "\n",
        "#```python\n",
        "\n",
        "# Sample data: Job performance levels before (rows) and after (columns) training\n",
        "\n",
        "#data = np.array([[50, 30, 20], [30, 40, 30], [20, 30, 40]])\n",
        "\n",
        "#```\n"
      ],
      "metadata": {
        "id": "nUpTBySULIDF"
      },
      "execution_count": null,
      "outputs": []
    },
    {
      "cell_type": "code",
      "source": [
        "import numpy as np\n",
        "from scipy.stats import chi2_contingency\n",
        "\n",
        "# Sample data: Job performance levels before (rows) and after (columns) training\n",
        "observed_values = np.array([[50, 30, 20], [30, 40, 30], [20, 30, 40]])\n",
        "\n",
        "print(\"Contingency Table:\")\n",
        "print(observed_values)\n",
        "\n",
        "# Perform Chi-Square test\n",
        "chi2_statistic, p_value, degrees_of_freedom, expected_value = chi2_contingency(observed_values)\n",
        "\n",
        "print(\"\\nChi-Square Statistic:\", chi2_statistic)\n",
        "print(\"P-value:\", p_value)\n",
        "\n",
        "alpha = 0.05\n",
        "\n",
        "if p_value < alpha:\n",
        "    print(\"\\n Reject the null hypothesis : Ther is a significant difference between job performance levels before and after the training.\")\n",
        "else:\n",
        "    print(\"\\n Failed to reject the null hypothesis : There is no significant difference between job performance levels before and after the training.\")"
      ],
      "metadata": {
        "id": "ibL0oLcWLYeS",
        "colab": {
          "base_uri": "https://localhost:8080/"
        },
        "outputId": "6858fb3e-78ec-4d09-8980-60f21e66ed38"
      },
      "execution_count": null,
      "outputs": [
        {
          "output_type": "stream",
          "name": "stdout",
          "text": [
            "Contingency Table:\n",
            "[[50 30 20]\n",
            " [30 40 30]\n",
            " [20 30 40]]\n",
            "\n",
            "Chi-Square Statistic: 22.161728395061726\n",
            "P-value: 0.00018609719479882557\n",
            "\n",
            " Reject the null hypothesis : is a significant difference between job performance levels before and after the training.\n"
          ]
        }
      ]
    },
    {
      "cell_type": "code",
      "source": [
        "# Q-24. A company produces three different versions of a product: Standard, Premium, and Deluxe.\n",
        "#The company wants to determine if there is a significant difference in customer satisfaction scores among the three product versions.\n",
        "#They conducted a survey and collected customer satisfaction scores for each version from a random sample of customers.\n",
        "#Perform an ANOVA test to determine if there is a significant difference in customer satisfaction scores.\n",
        "\n",
        "\n",
        "  #Use the following data:\n",
        "\n",
        "  #```python\n",
        "\n",
        "  # Sample data: Customer satisfaction scores for each product version\n",
        "\n",
        "  #standard_scores = [80, 85, 90, 78, 88, 82, 92, 78, 85, 87]\n",
        "\n",
        "  #premium_scores = [90, 92, 88, 92, 95, 91, 96, 93, 89, 93]\n",
        "\n",
        "  #deluxe_scores = [95, 98, 92, 97, 96, 94, 98, 97, 92, 99]\n",
        "\n",
        "  #```"
      ],
      "metadata": {
        "id": "ovNA5geRLYa2"
      },
      "execution_count": null,
      "outputs": []
    },
    {
      "cell_type": "code",
      "source": [
        "import numpy as np\n",
        "from scipy.stats import f_oneway\n",
        "\n",
        "# Sample data: Customer satisfaction scores for each product version\n",
        "standard_scores = [80, 85, 90, 78, 88, 82, 92, 78, 85, 87]\n",
        "premium_scores = [90, 92, 88, 92, 95, 91, 96, 93, 89, 93]\n",
        "deluxe_scores = [95, 98, 92, 97, 96, 94, 98, 97, 92, 99]\n",
        "\n",
        "# Perform ANOVA test\n",
        "f_statistic, p_value = f_oneway(standard_scores, premium_scores, deluxe_scores)\n",
        "\n",
        "print(\"F-statistic:\", f_statistic)\n",
        "print(\"P-value:\", p_value)\n",
        "\n",
        "alpha = 0.05\n",
        "\n",
        "if p_value < alpha:\n",
        "    print(\"\\n Reject the null hypothesis : There is a significant difference in customer satisfaction scores among the three product versions.\")\n",
        "else:\n",
        "    print(\"\\n Faled to Reject the null hypothesis : There is no significant difference in customer satisfaction scores among the three product versions.\")\n"
      ],
      "metadata": {
        "id": "nU8c3WIAL2VB",
        "colab": {
          "base_uri": "https://localhost:8080/"
        },
        "outputId": "783b7d08-2a86-4eae-b7dd-872788d7a5ce"
      },
      "execution_count": null,
      "outputs": [
        {
          "output_type": "stream",
          "name": "stdout",
          "text": [
            "F-statistic: 27.03556231003039\n",
            "P-value: 3.5786328857349003e-07\n",
            "\n",
            " Reject the null hypothesis : There is a significant difference in customer satisfaction scores among the three product versions.\n"
          ]
        }
      ]
    },
    {
      "cell_type": "code",
      "source": [],
      "metadata": {
        "id": "WfrKDgEp82BF"
      },
      "execution_count": null,
      "outputs": []
    }
  ]
}